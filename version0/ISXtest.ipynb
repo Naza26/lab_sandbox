{
 "cells": [
  {
   "metadata": {
    "collapsed": true,
    "ExecuteTime": {
     "end_time": "2025-08-03T15:35:54.503461Z",
     "start_time": "2025-08-03T15:35:54.501415Z"
    }
   },
   "cell_type": "code",
   "source": [
    "from isx_pipeline import ISXPipeline\n",
    "import isx\n"
   ],
   "id": "initial_id",
   "outputs": [],
   "execution_count": 13
  },
  {
   "metadata": {
    "ExecuteTime": {
     "end_time": "2025-08-03T15:35:54.563147Z",
     "start_time": "2025-08-03T15:35:54.559666Z"
    }
   },
   "cell_type": "code",
   "source": "pipe = ISXPipeline.new(isx, \"videos\", \"output\")",
   "id": "89cdb9ecbf2c15fb",
   "outputs": [],
   "execution_count": 14
  },
  {
   "metadata": {
    "ExecuteTime": {
     "end_time": "2025-08-03T15:35:54.611829Z",
     "start_time": "2025-08-03T15:35:54.608975Z"
    }
   },
   "cell_type": "code",
   "source": "pipe.info()",
   "id": "9baeb059b7221b41",
   "outputs": [
    {
     "data": {
      "text/plain": [
       "{'steps': [],\n",
       " 'inputs': ['videos/prueba.isxd'],\n",
       " 'output': ['videos/prueba.isxd']}"
      ]
     },
     "execution_count": 15,
     "metadata": {},
     "output_type": "execute_result"
    }
   ],
   "execution_count": 15
  },
  {
   "metadata": {
    "ExecuteTime": {
     "end_time": "2025-08-03T15:35:55.901779Z",
     "start_time": "2025-08-03T15:35:54.677432Z"
    }
   },
   "cell_type": "code",
   "source": "pipe.preprocess_videos()",
   "id": "2cf6386596d1d5c4",
   "outputs": [
    {
     "data": {
      "text/plain": [
       "<isx_pipeline.isx_pipeline.ISXPipeline at 0x7fb314b29030>"
      ]
     },
     "execution_count": 16,
     "metadata": {},
     "output_type": "execute_result"
    }
   ],
   "execution_count": 16
  },
  {
   "metadata": {
    "ExecuteTime": {
     "end_time": "2025-08-03T15:35:55.926357Z",
     "start_time": "2025-08-03T15:35:55.923486Z"
    }
   },
   "cell_type": "code",
   "source": "pipe.info()",
   "id": "e45265a82ffcf19f",
   "outputs": [
    {
     "data": {
      "text/plain": [
       "{'steps': [{'name': 'Preprocess Videos',\n",
       "   'input': ['videos/prueba.isxd'],\n",
       "   'output': {'videos': ['output/prueba-PP.isxd']}}],\n",
       " 'inputs': ['videos/prueba.isxd'],\n",
       " 'output': {'videos': ['output/prueba-PP.isxd']}}"
      ]
     },
     "execution_count": 17,
     "metadata": {},
     "output_type": "execute_result"
    }
   ],
   "execution_count": 17
  }
 ],
 "metadata": {
  "kernelspec": {
   "display_name": "Python 3",
   "language": "python",
   "name": "python3"
  },
  "language_info": {
   "codemirror_mode": {
    "name": "ipython",
    "version": 2
   },
   "file_extension": ".py",
   "mimetype": "text/x-python",
   "name": "python",
   "nbconvert_exporter": "python",
   "pygments_lexer": "ipython2",
   "version": "2.7.6"
  }
 },
 "nbformat": 4,
 "nbformat_minor": 5
}
