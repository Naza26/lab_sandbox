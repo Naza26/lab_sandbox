{
 "cells": [
  {
   "cell_type": "code",
   "id": "initial_id",
   "metadata": {
    "collapsed": true,
    "ExecuteTime": {
     "end_time": "2025-09-13T14:58:58.081077Z",
     "start_time": "2025-09-13T14:58:56.072278Z"
    }
   },
   "source": [
    "# import isx\n",
    "from isx_pipeline.isx_pipeline import ISXPipeline\n"
   ],
   "outputs": [],
   "execution_count": 1
  },
  {
   "metadata": {},
   "cell_type": "markdown",
   "source": "## Pipeline creation example",
   "id": "c54b9a371862d49f"
  },
  {
   "metadata": {},
   "cell_type": "markdown",
   "source": "Create a new pipeline for videos located in the 'videos' folder",
   "id": "95bc4ff927ecb6f8"
  },
  {
   "metadata": {
    "ExecuteTime": {
     "end_time": "2025-09-13T14:59:10.616261Z",
     "start_time": "2025-09-13T14:58:58.095738Z"
    }
   },
   "cell_type": "code",
   "source": "pipe = ISXPipeline.new('videos')",
   "id": "8a6ba29ba9f65e8",
   "outputs": [],
   "execution_count": 2
  },
  {
   "metadata": {},
   "cell_type": "markdown",
   "source": "Set default params for variables across the execution",
   "id": "78c6c0cdb503d624"
  },
  {
   "metadata": {
    "ExecuteTime": {
     "end_time": "2025-09-13T14:59:12.259775Z",
     "start_time": "2025-09-13T14:59:10.702299Z"
    }
   },
   "cell_type": "code",
   "source": [
    "# pipe.set_defaults(\n",
    "#     high_cutoff=0.5,\n",
    "#     low_cutoff=0.005\n",
    "# )"
   ],
   "id": "c3c360315165ca72",
   "outputs": [],
   "execution_count": 3
  },
  {
   "metadata": {},
   "cell_type": "markdown",
   "source": "## Print info about the pipeline",
   "id": "8a84867c65daa24c"
  },
  {
   "metadata": {
    "ExecuteTime": {
     "end_time": "2025-09-13T14:59:12.537186Z",
     "start_time": "2025-09-13T14:59:12.319809Z"
    }
   },
   "cell_type": "code",
   "source": "pipe.info()",
   "id": "f05a2ecedd30c044",
   "outputs": [
    {
     "data": {
      "text/plain": [
       "{'steps': [{'name': 'Preprocess Videos',\n",
       "   'input': {'input': ['videos/simulation.isxd']},\n",
       "   'output': {'output': ['output/step 1 - Preprocess Videos/simulation-PP.isxd']},\n",
       "   'args': [],\n",
       "   'kwargs': {}},\n",
       "  {'name': 'Bandpass Filter Videos',\n",
       "   'input': {'input': ['output/step 1 - Preprocess Videos/simulation-PP.isxd']},\n",
       "   'output': {'output': ['output/step 2 - Bandpass Filter Videos/simulation-PP-BP.isxd']},\n",
       "   'args': [],\n",
       "   'kwargs': {}}],\n",
       " 'inputs': {'videos': ['videos/simulation.isxd']},\n",
       " 'output': {'output': ['output/step 2 - Bandpass Filter Videos/simulation-PP-BP.isxd']},\n",
       " 'defaults': {}}"
      ]
     },
     "execution_count": 4,
     "metadata": {},
     "output_type": "execute_result"
    }
   ],
   "execution_count": 4
  },
  {
   "metadata": {},
   "cell_type": "markdown",
   "source": "## Apply ISX functions",
   "id": "2de36aed8b6820d2"
  },
  {
   "metadata": {},
   "cell_type": "markdown",
   "source": "Call single function",
   "id": "92e524626d7d769d"
  },
  {
   "metadata": {
    "ExecuteTime": {
     "end_time": "2025-09-13T14:59:12.980925Z",
     "start_time": "2025-09-13T14:59:12.565262Z"
    }
   },
   "cell_type": "code",
   "source": "pipe.preprocess_videos()",
   "id": "bc001a256d5ecedd",
   "outputs": [],
   "execution_count": 5
  },
  {
   "metadata": {
    "ExecuteTime": {
     "end_time": "2025-09-13T14:49:23.784009Z",
     "start_time": "2025-09-13T14:49:23.780990Z"
    }
   },
   "cell_type": "markdown",
   "source": "Chain multiple functions",
   "id": "1ba90350a07f8546"
  },
  {
   "metadata": {
    "ExecuteTime": {
     "end_time": "2025-09-13T14:59:13.266972Z",
     "start_time": "2025-09-13T14:59:12.987357Z"
    }
   },
   "cell_type": "code",
   "source": [
    "# (pipe\n",
    "#  .bandpass_filter_videos()\n",
    "#  .motion_correction_videos()\n",
    "#  .normalize_dff_videos())"
   ],
   "id": "8a50dd7dcdd4b195",
   "outputs": [],
   "execution_count": 6
  },
  {
   "metadata": {},
   "cell_type": "markdown",
   "source": "## View results and info about what was ran",
   "id": "fd97fb4abf2bbd8e"
  },
  {
   "metadata": {
    "ExecuteTime": {
     "end_time": "2025-09-13T14:59:13.618264Z",
     "start_time": "2025-09-13T14:59:13.274018Z"
    }
   },
   "cell_type": "code",
   "source": "pipe.info()",
   "id": "31222fa505ff1a32",
   "outputs": [
    {
     "data": {
      "text/plain": [
       "{'steps': [{'name': 'Preprocess Videos',\n",
       "   'input': {'input': ['videos/simulation.isxd']},\n",
       "   'output': {'output': ['output/step 1 - Preprocess Videos/simulation-PP.isxd']},\n",
       "   'args': [],\n",
       "   'kwargs': {}},\n",
       "  {'name': 'Bandpass Filter Videos',\n",
       "   'input': {'input': ['output/step 1 - Preprocess Videos/simulation-PP.isxd']},\n",
       "   'output': {'output': ['output/step 2 - Bandpass Filter Videos/simulation-PP-BP.isxd']},\n",
       "   'args': [],\n",
       "   'kwargs': {}}],\n",
       " 'inputs': {'videos': ['videos/simulation.isxd']},\n",
       " 'output': {'output': ['output/step 2 - Bandpass Filter Videos/simulation-PP-BP.isxd']},\n",
       " 'defaults': {}}"
      ]
     },
     "execution_count": 7,
     "metadata": {},
     "output_type": "execute_result"
    }
   ],
   "execution_count": 7
  },
  {
   "metadata": {
    "ExecuteTime": {
     "end_time": "2025-09-13T14:59:15.030828Z",
     "start_time": "2025-09-13T14:59:13.625937Z"
    }
   },
   "cell_type": "code",
   "source": "# TODO: Add trace example",
   "id": "f9f62730127287c1",
   "outputs": [],
   "execution_count": 8
  },
  {
   "metadata": {
    "ExecuteTime": {
     "end_time": "2025-09-13T14:59:15.096140Z",
     "start_time": "2025-09-13T14:59:15.085784Z"
    }
   },
   "cell_type": "code",
   "source": "# TODO: plot some",
   "id": "bc06847d10896c8d",
   "outputs": [],
   "execution_count": 9
  },
  {
   "metadata": {},
   "cell_type": "markdown",
   "source": "## Export files to tiff",
   "id": "324d05fddaf5e94"
  },
  {
   "metadata": {
    "ExecuteTime": {
     "end_time": "2025-09-13T14:59:43.199783Z",
     "start_time": "2025-09-13T14:59:39.287317Z"
    }
   },
   "cell_type": "code",
   "source": "pipe.export_movie_to_tiff()",
   "id": "8de94dc765434f33",
   "outputs": [
    {
     "ename": "AttributeError",
     "evalue": "'list' object has no attribute 'encode'",
     "output_type": "error",
     "traceback": [
      "\u001B[0;31m---------------------------------------------------------------------------\u001B[0m",
      "\u001B[0;31mAttributeError\u001B[0m                            Traceback (most recent call last)",
      "Cell \u001B[0;32mIn[12], line 1\u001B[0m\n\u001B[0;32m----> 1\u001B[0m \u001B[43mpipe\u001B[49m\u001B[38;5;241;43m.\u001B[39;49m\u001B[43mexport_movie_to_tiff\u001B[49m\u001B[43m(\u001B[49m\u001B[43m)\u001B[49m\n",
      "File \u001B[0;32m~/dev/fiuba/tpp/lab_sandbox/version0/isx_pipeline/isx_pipeline.py:154\u001B[0m, in \u001B[0;36mISXPipeline.export_movie_to_tiff\u001B[0;34m(self, name)\u001B[0m\n\u001B[1;32m    152\u001B[0m \u001B[38;5;28;01mfor\u001B[39;00m in_file \u001B[38;5;129;01min\u001B[39;00m input_videos:\n\u001B[1;32m    153\u001B[0m     tiff_file \u001B[38;5;241m=\u001B[39m \u001B[38;5;28mself\u001B[39m\u001B[38;5;241m.\u001B[39m_isx\u001B[38;5;241m.\u001B[39mmake_output_file_paths([in_file], step_folder, \u001B[38;5;124m'\u001B[39m\u001B[38;5;124mtiff\u001B[39m\u001B[38;5;124m'\u001B[39m, \u001B[38;5;124m'\u001B[39m\u001B[38;5;124mtiff\u001B[39m\u001B[38;5;124m'\u001B[39m)[\u001B[38;5;241m0\u001B[39m]\n\u001B[0;32m--> 154\u001B[0m     \u001B[38;5;28;43mself\u001B[39;49m\u001B[38;5;241;43m.\u001B[39;49m\u001B[43m_isx\u001B[49m\u001B[38;5;241;43m.\u001B[39;49m\u001B[43mexport_movie_to_tiff\u001B[49m\u001B[43m(\u001B[49m\u001B[43m[\u001B[49m\u001B[43min_file\u001B[49m\u001B[43m]\u001B[49m\u001B[43m,\u001B[49m\u001B[43m \u001B[49m\u001B[43m[\u001B[49m\u001B[43mtiff_file\u001B[49m\u001B[43m]\u001B[49m\u001B[43m)\u001B[49m\n\u001B[1;32m    155\u001B[0m     tiff_files\u001B[38;5;241m.\u001B[39mappend(tiff_file)\n\u001B[1;32m    156\u001B[0m     \u001B[38;5;28mprint\u001B[39m(\u001B[38;5;124mf\u001B[39m\u001B[38;5;124m\"\u001B[39m\u001B[38;5;124mExported movie to file \u001B[39m\u001B[38;5;132;01m{\u001B[39;00mtiff_file\u001B[38;5;132;01m}\u001B[39;00m\u001B[38;5;124m\"\u001B[39m)\n",
      "File \u001B[0;32m~/dev/fiuba/tpp/Inscopix Data Processing 1.9.6/Inscopix Data Processing.linux/Contents/API/Python/isx/io.py:2068\u001B[0m, in \u001B[0;36mexport_movie_to_tiff\u001B[0;34m(input_movie_files, output_tiff_file, write_invalid_frames)\u001B[0m\n\u001B[1;32m   2052\u001B[0m \u001B[38;5;250m\u001B[39m\u001B[38;5;124;03m\"\"\"\u001B[39;00m\n\u001B[1;32m   2053\u001B[0m \u001B[38;5;124;03mExport movies to a TIFF file.\u001B[39;00m\n\u001B[1;32m   2054\u001B[0m \n\u001B[0;32m   (...)\u001B[0m\n\u001B[1;32m   2065\u001B[0m \u001B[38;5;124;03m    otherwise, do not write them at all.\u001B[39;00m\n\u001B[1;32m   2066\u001B[0m \u001B[38;5;124;03m\"\"\"\u001B[39;00m\n\u001B[1;32m   2067\u001B[0m num_movies, in_movie_arr \u001B[38;5;241m=\u001B[39m isx\u001B[38;5;241m.\u001B[39m_internal\u001B[38;5;241m.\u001B[39mcheck_input_files(input_movie_files)\n\u001B[0;32m-> 2068\u001B[0m isx\u001B[38;5;241m.\u001B[39m_internal\u001B[38;5;241m.\u001B[39mc_api\u001B[38;5;241m.\u001B[39misx_export_movie_tiff(num_movies, in_movie_arr, \u001B[43moutput_tiff_file\u001B[49m\u001B[38;5;241;43m.\u001B[39;49m\u001B[43mencode\u001B[49m(\u001B[38;5;124m'\u001B[39m\u001B[38;5;124mutf-8\u001B[39m\u001B[38;5;124m'\u001B[39m), write_invalid_frames)\n",
      "\u001B[0;31mAttributeError\u001B[0m: 'list' object has no attribute 'encode'"
     ]
    }
   ],
   "execution_count": 12
  }
 ],
 "metadata": {
  "kernelspec": {
   "display_name": "Python 3",
   "language": "python",
   "name": "python3"
  },
  "language_info": {
   "codemirror_mode": {
    "name": "ipython",
    "version": 2
   },
   "file_extension": ".py",
   "mimetype": "text/x-python",
   "name": "python",
   "nbconvert_exporter": "python",
   "pygments_lexer": "ipython2",
   "version": "2.7.6"
  }
 },
 "nbformat": 4,
 "nbformat_minor": 5
}
