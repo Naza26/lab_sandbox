{
 "cells": [
  {
   "cell_type": "code",
   "id": "dd87655b",
   "metadata": {
    "ExecuteTime": {
     "end_time": "2025-08-03T12:58:37.355956Z",
     "start_time": "2025-08-03T12:58:36.867036Z"
    }
   },
   "source": [
    "import isx\n",
    "from version0.isx_pipeline import ISXPipeline"
   ],
   "outputs": [],
   "execution_count": 2
  },
  {
   "cell_type": "code",
   "id": "5da9ced8",
   "metadata": {
    "ExecuteTime": {
     "end_time": "2025-08-03T13:19:31.550103Z",
     "start_time": "2025-08-03T13:19:31.534591Z"
    }
   },
   "source": [
    "import sys\n",
    "import os\n",
    "\n",
    "base_path = os.path.abspath(os.path.join(os.getcwd(), '..'))\n",
    "if base_path not in sys.path:\n",
    "    sys.path.insert(0, base_path)\n",
    "\n",
    "import importlib\n",
    "import version0.isx_pipeline.isx_pipeline\n",
    "\n",
    "importlib.reload(version0.isx_pipeline.isx_pipeline)\n",
    "\n",
    "from version0.isx_pipeline.isx_pipeline import ISXPipeline"
   ],
   "outputs": [],
   "execution_count": 7
  },
  {
   "cell_type": "code",
   "id": "89cdb9ecbf2c15fb",
   "metadata": {
    "ExecuteTime": {
     "end_time": "2025-08-03T13:19:38.684542Z",
     "start_time": "2025-08-03T13:19:38.679078Z"
    }
   },
   "source": [
    "pipe = ISXPipeline.new(isx, \"videos\", \"output\")"
   ],
   "outputs": [],
   "execution_count": 9
  },
  {
   "cell_type": "code",
   "id": "9baeb059b7221b41",
   "metadata": {
    "ExecuteTime": {
     "end_time": "2025-08-03T13:19:40.286283Z",
     "start_time": "2025-08-03T13:19:40.282033Z"
    }
   },
   "source": "pipe.info()",
   "outputs": [
    {
     "data": {
      "text/plain": [
       "{'steps': [],\n",
       " 'inputs': ['videos/2021-10-21-11-57-27_video_trig_0-efocus_1000-PP.isxd'],\n",
       " 'output': ['videos/2021-10-21-11-57-27_video_trig_0-efocus_1000-PP.isxd']}"
      ]
     },
     "execution_count": 10,
     "metadata": {},
     "output_type": "execute_result"
    }
   ],
   "execution_count": 10
  },
  {
   "metadata": {
    "ExecuteTime": {
     "end_time": "2025-08-03T13:20:13.377951Z",
     "start_time": "2025-08-03T13:20:13.374004Z"
    }
   },
   "cell_type": "code",
   "source": "pipe.trace()",
   "id": "2b163d7ad4630de7",
   "outputs": [
    {
     "data": {
      "text/plain": [
       "{}"
      ]
     },
     "execution_count": 11,
     "metadata": {},
     "output_type": "execute_result"
    }
   ],
   "execution_count": 11
  },
  {
   "cell_type": "code",
   "id": "2cf6386596d1d5c4",
   "metadata": {
    "ExecuteTime": {
     "end_time": "2025-08-03T13:26:44.768905Z",
     "start_time": "2025-08-03T13:26:42.500458Z"
    }
   },
   "source": [
    "pipe.preprocess_videos()"
   ],
   "outputs": [
    {
     "data": {
      "text/plain": [
       "<version0.isx_pipeline.isx_pipeline.ISXPipeline at 0x7fcf141f2500>"
      ]
     },
     "execution_count": 12,
     "metadata": {},
     "output_type": "execute_result"
    }
   ],
   "execution_count": 12
  },
  {
   "metadata": {
    "ExecuteTime": {
     "end_time": "2025-08-03T13:26:50.997534Z",
     "start_time": "2025-08-03T13:26:50.991386Z"
    }
   },
   "cell_type": "code",
   "source": "pipe.trace()",
   "id": "f2822b499aef5fc5",
   "outputs": [
    {
     "data": {
      "text/plain": [
       "{'1': {'algoritmo': 'Preprocess Videos',\n",
       "  'input': ['videos/2021-10-21-11-57-27_video_trig_0-efocus_1000-PP.isxd'],\n",
       "  'output': ['output/step 1 - Preprocess Videos/2021-10-21-11-57-27_video_trig_0-efocus_1000-PP-PP.isxd']}}"
      ]
     },
     "execution_count": 13,
     "metadata": {},
     "output_type": "execute_result"
    }
   ],
   "execution_count": 13
  },
  {
   "cell_type": "code",
   "id": "e45265a82ffcf19f",
   "metadata": {
    "ExecuteTime": {
     "end_time": "2025-08-03T13:26:57.841844Z",
     "start_time": "2025-08-03T13:26:57.835703Z"
    }
   },
   "source": "pipe.info()",
   "outputs": [
    {
     "data": {
      "text/plain": [
       "{'steps': [{'name': 'Preprocess Videos',\n",
       "   'input': ['videos/2021-10-21-11-57-27_video_trig_0-efocus_1000-PP.isxd'],\n",
       "   'output': {'videos': ['output/step 1 - Preprocess Videos/2021-10-21-11-57-27_video_trig_0-efocus_1000-PP-PP.isxd']},\n",
       "   'args': (['output/step 1 - Preprocess Videos/2021-10-21-11-57-27_video_trig_0-efocus_1000-PP-PP.isxd'],),\n",
       "   'kwargs': {}}],\n",
       " 'inputs': ['videos/2021-10-21-11-57-27_video_trig_0-efocus_1000-PP.isxd'],\n",
       " 'output': {'videos': ['output/step 1 - Preprocess Videos/2021-10-21-11-57-27_video_trig_0-efocus_1000-PP-PP.isxd']}}"
      ]
     },
     "execution_count": 14,
     "metadata": {},
     "output_type": "execute_result"
    }
   ],
   "execution_count": 14
  }
 ],
 "metadata": {
  "kernelspec": {
   "display_name": "isxenv",
   "language": "python",
   "name": "python3"
  },
  "language_info": {
   "codemirror_mode": {
    "name": "ipython",
    "version": 3
   },
   "file_extension": ".py",
   "mimetype": "text/x-python",
   "name": "python",
   "nbconvert_exporter": "python",
   "pygments_lexer": "ipython3",
   "version": "3.10.18"
  }
 },
 "nbformat": 4,
 "nbformat_minor": 5
}
