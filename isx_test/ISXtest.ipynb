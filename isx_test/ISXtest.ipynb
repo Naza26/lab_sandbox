{
 "cells": [
  {
   "cell_type": "code",
   "execution_count": 107,
   "id": "dd87655b",
   "metadata": {
    "ExecuteTime": {
     "end_time": "2025-08-03T12:58:37.355956Z",
     "start_time": "2025-08-03T12:58:36.867036Z"
    }
   },
   "outputs": [],
   "source": [
    "import isx\n",
    "from version0.isx_pipeline import ISXPipeline"
   ]
  },
  {
   "cell_type": "code",
   "execution_count": 108,
   "id": "5da9ced8",
   "metadata": {
    "ExecuteTime": {
     "end_time": "2025-08-03T13:19:31.550103Z",
     "start_time": "2025-08-03T13:19:31.534591Z"
    }
   },
   "outputs": [],
   "source": [
    "import sys\n",
    "import os\n",
    "\n",
    "base_path = os.path.abspath(os.path.join(os.getcwd(), '..'))\n",
    "if base_path not in sys.path:\n",
    "    sys.path.insert(0, base_path)\n",
    "\n",
    "import importlib\n",
    "import version0.isx_pipeline.isx_pipeline\n",
    "\n",
    "importlib.reload(version0.isx_pipeline.isx_pipeline)\n",
    "\n",
    "from version0.isx_pipeline.isx_pipeline import ISXPipeline"
   ]
  },
  {
   "cell_type": "code",
   "execution_count": 109,
   "id": "89cdb9ecbf2c15fb",
   "metadata": {
    "ExecuteTime": {
     "end_time": "2025-08-03T13:19:38.684542Z",
     "start_time": "2025-08-03T13:19:38.679078Z"
    }
   },
   "outputs": [],
   "source": [
    "pipe = ISXPipeline.new(isx, \"videos\", \"output\")"
   ]
  },
  {
   "cell_type": "code",
   "execution_count": 110,
   "id": "9baeb059b7221b41",
   "metadata": {
    "ExecuteTime": {
     "end_time": "2025-08-03T13:19:40.286283Z",
     "start_time": "2025-08-03T13:19:40.282033Z"
    }
   },
   "outputs": [
    {
     "data": {
      "text/plain": [
       "{'steps': [],\n",
       " 'inputs': ['videos\\\\2021-10-21-11-57-27_video_trig_0-efocus_1000-PP.isxd'],\n",
       " 'output': ['videos\\\\2021-10-21-11-57-27_video_trig_0-efocus_1000-PP.isxd']}"
      ]
     },
     "execution_count": 110,
     "metadata": {},
     "output_type": "execute_result"
    }
   ],
   "source": [
    "pipe.info()"
   ]
  },
  {
   "cell_type": "code",
   "execution_count": 111,
   "id": "2b163d7ad4630de7",
   "metadata": {
    "ExecuteTime": {
     "end_time": "2025-08-03T13:20:13.377951Z",
     "start_time": "2025-08-03T13:20:13.374004Z"
    }
   },
   "outputs": [
    {
     "data": {
      "text/plain": [
       "{}"
      ]
     },
     "execution_count": 111,
     "metadata": {},
     "output_type": "execute_result"
    }
   ],
   "source": [
    "pipe.trace()"
   ]
  },
  {
   "cell_type": "code",
   "execution_count": 112,
   "id": "2cf6386596d1d5c4",
   "metadata": {
    "ExecuteTime": {
     "end_time": "2025-08-03T13:26:44.768905Z",
     "start_time": "2025-08-03T13:26:42.500458Z"
    }
   },
   "outputs": [
    {
     "data": {
      "text/plain": [
       "<version0.isx_pipeline.isx_pipeline.ISXPipeline at 0x18925cf0a60>"
      ]
     },
     "execution_count": 112,
     "metadata": {},
     "output_type": "execute_result"
    }
   ],
   "source": [
    "pipe.preprocess_videos().bandpass_filter_videos().motion_correction_videos()"
   ]
  },
  {
   "cell_type": "code",
   "execution_count": 113,
   "id": "f2822b499aef5fc5",
   "metadata": {
    "ExecuteTime": {
     "end_time": "2025-08-03T13:26:50.997534Z",
     "start_time": "2025-08-03T13:26:50.991386Z"
    }
   },
   "outputs": [
    {
     "data": {
      "text/plain": [
       "{'1': {'algorithm': 'Preprocess Videos',\n",
       "  'input': ['videos\\\\2021-10-21-11-57-27_video_trig_0-efocus_1000-PP.isxd'],\n",
       "  'output': ['output\\\\step 1 - Preprocess Videos\\\\2021-10-21-11-57-27_video_trig_0-efocus_1000-PP-PP.isxd']},\n",
       " '2': {'algorithm': 'Bandpass Filter Videos',\n",
       "  'input': ['output\\\\step 1 - Preprocess Videos\\\\2021-10-21-11-57-27_video_trig_0-efocus_1000-PP-PP.isxd'],\n",
       "  'output': ['output\\\\step 2 - Bandpass Filter Videos\\\\2021-10-21-11-57-27_video_trig_0-efocus_1000-PP-PP-BP.isxd']},\n",
       " '3': {'algorithm': 'Motion Correction Videos',\n",
       "  'input': ['output\\\\step 2 - Bandpass Filter Videos\\\\2021-10-21-11-57-27_video_trig_0-efocus_1000-PP-PP-BP.isxd'],\n",
       "  'output': ['output\\\\step 3 - Motion Correction Videos\\\\2021-10-21-11-57-27_video_trig_0-efocus_1000-PP-PP-BP-MC.isxd']}}"
      ]
     },
     "execution_count": 113,
     "metadata": {},
     "output_type": "execute_result"
    }
   ],
   "source": [
    "pipe.trace()"
   ]
  },
  {
   "cell_type": "code",
   "execution_count": 114,
   "id": "e45265a82ffcf19f",
   "metadata": {
    "ExecuteTime": {
     "end_time": "2025-08-03T13:26:57.841844Z",
     "start_time": "2025-08-03T13:26:57.835703Z"
    }
   },
   "outputs": [
    {
     "data": {
      "text/plain": [
       "{'steps': [{'name': 'Preprocess Videos',\n",
       "   'input': ['videos\\\\2021-10-21-11-57-27_video_trig_0-efocus_1000-PP.isxd'],\n",
       "   'output': {'videos': ['output\\\\step 1 - Preprocess Videos\\\\2021-10-21-11-57-27_video_trig_0-efocus_1000-PP-PP.isxd']},\n",
       "   'args': (['output\\\\step 1 - Preprocess Videos\\\\2021-10-21-11-57-27_video_trig_0-efocus_1000-PP-PP.isxd'],),\n",
       "   'kwargs': {}},\n",
       "  {'name': 'Bandpass Filter Videos',\n",
       "   'input': {'videos': ['output\\\\step 1 - Preprocess Videos\\\\2021-10-21-11-57-27_video_trig_0-efocus_1000-PP-PP.isxd']},\n",
       "   'output': {'videos': ['output\\\\step 2 - Bandpass Filter Videos\\\\2021-10-21-11-57-27_video_trig_0-efocus_1000-PP-PP-BP.isxd']},\n",
       "   'args': (['output\\\\step 2 - Bandpass Filter Videos\\\\2021-10-21-11-57-27_video_trig_0-efocus_1000-PP-PP-BP.isxd'],),\n",
       "   'kwargs': {}},\n",
       "  {'name': 'Motion Correction Videos',\n",
       "   'input': {'videos': ['output\\\\step 2 - Bandpass Filter Videos\\\\2021-10-21-11-57-27_video_trig_0-efocus_1000-PP-PP-BP.isxd']},\n",
       "   'output': {'videos': ['output\\\\step 3 - Motion Correction Videos\\\\2021-10-21-11-57-27_video_trig_0-efocus_1000-PP-PP-BP-MC.isxd'],\n",
       "    'translations': ['output\\\\step 3 - Motion Correction Videos\\\\2021-10-21-11-57-27_video_trig_0-efocus_1000-PP-PP-BP-MC-translations.csv'],\n",
       "    'crop_rect': 'output\\\\step 3 - Motion Correction Videos\\\\series-crop_rect.csv',\n",
       "    'mean_projection': 'output\\\\step 3 - Motion Correction Videos\\\\series-mean_image.isxd'},\n",
       "   'args': ('output\\\\step 3 - Motion Correction Videos\\\\series-mean_image.isxd',\n",
       "    ['output\\\\step 3 - Motion Correction Videos\\\\2021-10-21-11-57-27_video_trig_0-efocus_1000-PP-PP-BP-MC.isxd'],\n",
       "    ['output\\\\step 3 - Motion Correction Videos\\\\2021-10-21-11-57-27_video_trig_0-efocus_1000-PP-PP-BP-MC-translations.csv'],\n",
       "    'output\\\\step 3 - Motion Correction Videos\\\\series-crop_rect.csv'),\n",
       "   'kwargs': {}}],\n",
       " 'inputs': ['videos\\\\2021-10-21-11-57-27_video_trig_0-efocus_1000-PP.isxd'],\n",
       " 'output': {'videos': ['output\\\\step 3 - Motion Correction Videos\\\\2021-10-21-11-57-27_video_trig_0-efocus_1000-PP-PP-BP-MC.isxd'],\n",
       "  'translations': ['output\\\\step 3 - Motion Correction Videos\\\\2021-10-21-11-57-27_video_trig_0-efocus_1000-PP-PP-BP-MC-translations.csv'],\n",
       "  'crop_rect': 'output\\\\step 3 - Motion Correction Videos\\\\series-crop_rect.csv',\n",
       "  'mean_projection': 'output\\\\step 3 - Motion Correction Videos\\\\series-mean_image.isxd'}}"
      ]
     },
     "execution_count": 114,
     "metadata": {},
     "output_type": "execute_result"
    }
   ],
   "source": [
    "pipe.info()"
   ]
  }
 ],
 "metadata": {
  "kernelspec": {
   "display_name": "isxenv",
   "language": "python",
   "name": "python3"
  },
  "language_info": {
   "codemirror_mode": {
    "name": "ipython",
    "version": 3
   },
   "file_extension": ".py",
   "mimetype": "text/x-python",
   "name": "python",
   "nbconvert_exporter": "python",
   "pygments_lexer": "ipython3",
   "version": "3.10.18"
  }
 },
 "nbformat": 4,
 "nbformat_minor": 5
}
