{
 "cells": [
  {
   "cell_type": "code",
   "execution_count": 34,
   "id": "dd87655b",
   "metadata": {},
   "outputs": [],
   "source": [
    "import isx\n",
    "from version0.isx_pipeline import ISXPipeline"
   ]
  },
  {
   "cell_type": "code",
   "execution_count": 83,
   "id": "5da9ced8",
   "metadata": {},
   "outputs": [],
   "source": [
    "import sys\n",
    "import os\n",
    "\n",
    "base_path = os.path.abspath(os.path.join(os.getcwd(), '..'))\n",
    "if base_path not in sys.path:\n",
    "    sys.path.insert(0, base_path)\n",
    "\n",
    "import importlib\n",
    "import version0.isx_pipeline.isx_pipeline\n",
    "\n",
    "importlib.reload(version0.isx_pipeline.isx_pipeline)\n",
    "\n",
    "from version0.isx_pipeline.isx_pipeline import ISXPipeline"
   ]
  },
  {
   "cell_type": "code",
   "execution_count": 84,
   "id": "89cdb9ecbf2c15fb",
   "metadata": {
    "ExecuteTime": {
     "end_time": "2025-07-27T21:08:30.643305Z",
     "start_time": "2025-07-27T21:08:30.639814Z"
    }
   },
   "outputs": [],
   "source": [
    "pipe = ISXPipeline.new(isx, \"videos\", \"output\")"
   ]
  },
  {
   "cell_type": "code",
   "execution_count": 85,
   "id": "9baeb059b7221b41",
   "metadata": {
    "ExecuteTime": {
     "end_time": "2025-07-27T21:08:30.702826Z",
     "start_time": "2025-07-27T21:08:30.695530Z"
    }
   },
   "outputs": [
    {
     "data": {
      "text/plain": [
       "{'steps': [], 'inputs': ['videos/pruebafernando.isxd'], 'output': []}"
      ]
     },
     "execution_count": 85,
     "metadata": {},
     "output_type": "execute_result"
    }
   ],
   "source": [
    "pipe.info()"
   ]
  },
  {
   "cell_type": "code",
   "execution_count": null,
   "id": "2cf6386596d1d5c4",
   "metadata": {
    "ExecuteTime": {
     "end_time": "2025-07-27T21:08:32.278626Z",
     "start_time": "2025-07-27T21:08:30.745888Z"
    }
   },
   "outputs": [
    {
     "data": {
      "text/plain": [
       "<version0.isx_pipeline.isx_pipeline.ISXPipeline at 0x788c524e47c0>"
      ]
     },
     "execution_count": 81,
     "metadata": {},
     "output_type": "execute_result"
    }
   ],
   "source": [
    "pipe.preprocess_videos()"
   ]
  },
  {
   "cell_type": "code",
   "execution_count": null,
   "id": "e45265a82ffcf19f",
   "metadata": {
    "ExecuteTime": {
     "end_time": "2025-07-27T21:08:32.298998Z",
     "start_time": "2025-07-27T21:08:32.292295Z"
    }
   },
   "outputs": [
    {
     "data": {
      "text/plain": [
       "{'steps': [{'name': 'Preprocess Videos',\n",
       "   'input': ['videos/pruebafernando.isxd'],\n",
       "   'output': {'videos': ['output/step 1 - Preprocess Videos/pruebafernando-PP.isxd']}},\n",
       "  {'name': 'Preprocess Videos',\n",
       "   'input': {'videos': ['output/step 1 - Preprocess Videos/pruebafernando-PP.isxd']},\n",
       "   'output': {'videos': ['output/step 2 - Preprocess Videos/videos-PP.isxd']}},\n",
       "  {'name': 'Preprocess Videos',\n",
       "   'input': {'videos': ['output/step 2 - Preprocess Videos/videos-PP.isxd']},\n",
       "   'output': {'videos': ['output/step 3 - Preprocess Videos/videos-PP.isxd']}}],\n",
       " 'inputs': ['videos/pruebafernando.isxd'],\n",
       " 'output': {'videos': ['output/step 3 - Preprocess Videos/videos-PP.isxd']}}"
      ]
     },
     "execution_count": 82,
     "metadata": {},
     "output_type": "execute_result"
    }
   ],
   "source": [
    "pipe.preprocess_videos().preprocess_videos()"
   ]
  }
 ],
 "metadata": {
  "kernelspec": {
   "display_name": "isxenv",
   "language": "python",
   "name": "python3"
  },
  "language_info": {
   "codemirror_mode": {
    "name": "ipython",
    "version": 3
   },
   "file_extension": ".py",
   "mimetype": "text/x-python",
   "name": "python",
   "nbconvert_exporter": "python",
   "pygments_lexer": "ipython3",
   "version": "3.10.18"
  }
 },
 "nbformat": 4,
 "nbformat_minor": 5
}
