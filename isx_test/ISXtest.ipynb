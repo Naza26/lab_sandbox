{
 "cells": [
  {
   "metadata": {
    "collapsed": true,
    "ExecuteTime": {
     "end_time": "2025-07-27T21:08:30.496174Z",
     "start_time": "2025-07-27T21:08:30.015033Z"
    }
   },
   "cell_type": "code",
   "source": [
    "from version0.isx_pipeline import ISXPipeline\n",
    "import isx\n"
   ],
   "id": "initial_id",
   "outputs": [],
   "execution_count": 1
  },
  {
   "metadata": {
    "ExecuteTime": {
     "end_time": "2025-07-27T21:08:30.643305Z",
     "start_time": "2025-07-27T21:08:30.639814Z"
    }
   },
   "cell_type": "code",
   "source": "pipe = ISXPipeline.new(isx, \"videos\", \"output\")",
   "id": "89cdb9ecbf2c15fb",
   "outputs": [],
   "execution_count": 2
  },
  {
   "metadata": {
    "ExecuteTime": {
     "end_time": "2025-07-27T21:08:30.702826Z",
     "start_time": "2025-07-27T21:08:30.695530Z"
    }
   },
   "cell_type": "code",
   "source": "pipe.info()",
   "id": "9baeb059b7221b41",
   "outputs": [
    {
     "data": {
      "text/plain": [
       "{'steps': [],\n",
       " 'inputs': ['videos/2021-10-21-11-57-27_video_trig_0-efocus_1000-PP.isxd'],\n",
       " 'output': ['videos/2021-10-21-11-57-27_video_trig_0-efocus_1000-PP.isxd']}"
      ]
     },
     "execution_count": 3,
     "metadata": {},
     "output_type": "execute_result"
    }
   ],
   "execution_count": 3
  },
  {
   "metadata": {
    "ExecuteTime": {
     "end_time": "2025-07-27T21:08:32.278626Z",
     "start_time": "2025-07-27T21:08:30.745888Z"
    }
   },
   "cell_type": "code",
   "source": "pipe.preprocess_videos()",
   "id": "2cf6386596d1d5c4",
   "outputs": [
    {
     "data": {
      "text/plain": [
       "<version0.isx_pipeline.isx_pipeline.ISXPipeline at 0x7f51bf5adcc0>"
      ]
     },
     "execution_count": 4,
     "metadata": {},
     "output_type": "execute_result"
    }
   ],
   "execution_count": 4
  },
  {
   "metadata": {
    "ExecuteTime": {
     "end_time": "2025-07-27T21:08:32.298998Z",
     "start_time": "2025-07-27T21:08:32.292295Z"
    }
   },
   "cell_type": "code",
   "source": "pipe.info()",
   "id": "e45265a82ffcf19f",
   "outputs": [
    {
     "data": {
      "text/plain": [
       "{'steps': [{'name': 'Preprocess Videos',\n",
       "   'input': ['videos/2021-10-21-11-57-27_video_trig_0-efocus_1000-PP.isxd'],\n",
       "   'output': {'videos': ['output/2021-10-21-11-57-27_video_trig_0-efocus_1000-PP-PP.isxd']}}],\n",
       " 'inputs': ['videos/2021-10-21-11-57-27_video_trig_0-efocus_1000-PP.isxd'],\n",
       " 'output': {'videos': ['output/2021-10-21-11-57-27_video_trig_0-efocus_1000-PP-PP.isxd']}}"
      ]
     },
     "execution_count": 5,
     "metadata": {},
     "output_type": "execute_result"
    }
   ],
   "execution_count": 5
  }
 ],
 "metadata": {
  "kernelspec": {
   "display_name": "Python 3",
   "language": "python",
   "name": "python3"
  },
  "language_info": {
   "codemirror_mode": {
    "name": "ipython",
    "version": 2
   },
   "file_extension": ".py",
   "mimetype": "text/x-python",
   "name": "python",
   "nbconvert_exporter": "python",
   "pygments_lexer": "ipython2",
   "version": "2.7.6"
  }
 },
 "nbformat": 4,
 "nbformat_minor": 5
}
