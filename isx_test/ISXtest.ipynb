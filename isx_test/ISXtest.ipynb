{
 "cells": [
  {
   "cell_type": "code",
   "execution_count": 18,
   "id": "c56cfdac",
   "metadata": {},
   "outputs": [],
   "source": [
    "import sys, os\n",
    "sys.path.insert(0, \"/home/agus/Documentos/lab_sandbox/version0\")"
   ]
  },
  {
   "cell_type": "code",
   "execution_count": 45,
   "id": "5da9ced8",
   "metadata": {
    "ExecuteTime": {
     "end_time": "2025-08-03T13:19:31.550103Z",
     "start_time": "2025-08-03T13:19:31.534591Z"
    }
   },
   "outputs": [],
   "source": [
    "import sys\n",
    "import os\n",
    "\n",
    "\n",
    "base_path = os.path.abspath(os.path.join(os.getcwd(), '..'))\n",
    "if base_path not in sys.path:\n",
    "    sys.path.insert(0, base_path)\n",
    "\n",
    "import importlib\n",
    "import version0.isx_pipeline.isx_pipeline\n",
    "from logger.file_logger import FileLogger\n",
    "\n",
    "importlib.reload(version0.isx_pipeline.isx_pipeline)\n",
    "\n",
    "\n",
    "from version0.isx_pipeline.isx_pipeline import ISXPipeline"
   ]
  },
  {
   "cell_type": "code",
   "execution_count": 46,
   "id": "89cdb9ecbf2c15fb",
   "metadata": {
    "ExecuteTime": {
     "end_time": "2025-08-03T13:19:38.684542Z",
     "start_time": "2025-08-03T13:19:38.679078Z"
    }
   },
   "outputs": [],
   "source": [
    "logger = FileLogger.new_for(\"test.json\", \"output\")\n",
    "pipe = ISXPipeline.new(\"videos\", logger)"
   ]
  },
  {
   "cell_type": "code",
   "execution_count": 62,
   "id": "2b163d7ad4630de7",
   "metadata": {
    "ExecuteTime": {
     "end_time": "2025-08-03T13:20:13.377951Z",
     "start_time": "2025-08-03T13:20:13.374004Z"
    }
   },
   "outputs": [
    {
     "data": {
      "text/plain": [
       "{'branch_name': 'branch 1',\n",
       " 'steps': {'1': {'algorithm': 'Preprocess Videos',\n",
       "   'input': ['videos/pruebafernando.isxd'],\n",
       "   'output': ['output/branch 1 - step 1 - Preprocess Videos/pruebafernando-PP.isxd']},\n",
       "  '2': {'algorithm': 'Bandpass Filter Videos',\n",
       "   'input': ['output/branch 1 - step 1 - Preprocess Videos/pruebafernando-PP.isxd'],\n",
       "   'output': ['output/branch 1 - step 2 - Bandpass Filter Videos/pruebafernando-PP-BP.isxd']}}}"
      ]
     },
     "execution_count": 62,
     "metadata": {},
     "output_type": "execute_result"
    }
   ],
   "source": [
    "pipe.trace()"
   ]
  },
  {
   "cell_type": "code",
   "execution_count": 39,
   "id": "2cf6386596d1d5c4",
   "metadata": {
    "ExecuteTime": {
     "end_time": "2025-08-03T13:26:44.768905Z",
     "start_time": "2025-08-03T13:26:42.500458Z"
    }
   },
   "outputs": [
    {
     "ename": "AttributeError",
     "evalue": "'NoneType' object has no attribute 'bandpass_filter_videos'",
     "output_type": "error",
     "traceback": [
      "\u001b[0;31m---------------------------------------------------------------------------\u001b[0m",
      "\u001b[0;31mAttributeError\u001b[0m                            Traceback (most recent call last)",
      "Cell \u001b[0;32mIn[39], line 1\u001b[0m\n\u001b[0;32m----> 1\u001b[0m \u001b[43mpipe\u001b[49m\u001b[38;5;241;43m.\u001b[39;49m\u001b[43mpreprocess_videos\u001b[49m\u001b[43m(\u001b[49m\u001b[43m)\u001b[49m\u001b[38;5;241;43m.\u001b[39;49m\u001b[43mbandpass_filter_videos\u001b[49m(high_cutoff\u001b[38;5;241m=\u001b[39m\u001b[38;5;241m0.7\u001b[39m)\n",
      "\u001b[0;31mAttributeError\u001b[0m: 'NoneType' object has no attribute 'bandpass_filter_videos'"
     ]
    }
   ],
   "source": [
    "pipe.preprocess_videos().bandpass_filter_videos(high_cutoff=0.7)\n"
   ]
  },
  {
   "cell_type": "code",
   "execution_count": 8,
   "id": "f2822b499aef5fc5",
   "metadata": {
    "ExecuteTime": {
     "end_time": "2025-08-03T13:26:50.997534Z",
     "start_time": "2025-08-03T13:26:50.991386Z"
    }
   },
   "outputs": [],
   "source": [
    "otro_pipe = pipe.branch(\"otra\")"
   ]
  },
  {
   "cell_type": "code",
   "execution_count": 9,
   "id": "e45265a82ffcf19f",
   "metadata": {
    "ExecuteTime": {
     "end_time": "2025-08-03T13:26:57.841844Z",
     "start_time": "2025-08-03T13:26:57.835703Z"
    }
   },
   "outputs": [
    {
     "data": {
      "text/plain": [
       "<version0.isx_pipeline.isx_pipeline.ISXPipeline at 0x77ad7004d2d0>"
      ]
     },
     "execution_count": 9,
     "metadata": {},
     "output_type": "execute_result"
    }
   ],
   "source": [
    "otro_pipe.normalize_dff_videos()\n",
    "pipe.normalize_dff_videos()"
   ]
  },
  {
   "cell_type": "code",
   "execution_count": 86,
   "id": "58f744b0",
   "metadata": {},
   "outputs": [
    {
     "data": {
      "text/plain": [
       "<version0.isx_pipeline.isx_pipeline.ISXPipeline at 0x77ad26d2c670>"
      ]
     },
     "execution_count": 86,
     "metadata": {},
     "output_type": "execute_result"
    }
   ],
   "source": [
    "pipe.preprocess_videos()          # Preprocess Videos\n",
    "pipe.bandpass_filter_videos()     # Bandpass Filter Videos\n",
    "pipe.motion_correction_videos()   # Motion Correction Videos\n",
    "pipe.normalize_dff_videos()       # Normalize dF/F Videos\n",
    "pipe.extract_neurons_pca_ica()    # Extract Neurons PCA-ICA\n",
    "pipe.detect_events_in_cells()     # Detect Events in Cells\n",
    "pipe.auto_accept_reject_cells()   # Auto Accept-Reject Cells\n"
   ]
  },
  {
   "cell_type": "code",
   "execution_count": 50,
   "id": "622f1a24",
   "metadata": {},
   "outputs": [
    {
     "data": {
      "text/html": [
       "<pre style=\"white-space:pre;overflow-x:auto;line-height:normal;font-family:Menlo,'DejaVu Sans Mono',consolas,'Courier New',monospace\"><span style=\"font-style: italic\">                                        Step 2 Info                                         </span>\n",
       "┏━━━━━━━━━━━━┳━━━━━━━━━━━━━━━━━━━━━━━━━━━━━━━━━━━━━━━━━━━━━━━━━━━━━━━━━━━━━━━━━━━━━━━━━━━━━┓\n",
       "┃<span style=\"font-weight: bold\"> Field      </span>┃<span style=\"font-weight: bold\"> Value                                                                       </span>┃\n",
       "┡━━━━━━━━━━━━╇━━━━━━━━━━━━━━━━━━━━━━━━━━━━━━━━━━━━━━━━━━━━━━━━━━━━━━━━━━━━━━━━━━━━━━━━━━━━━┩\n",
       "│<span style=\"color: #008080; text-decoration-color: #008080\"> Algorithm  </span>│<span style=\"color: #808000; text-decoration-color: #808000\"> Bandpass Filter Videos                                                      </span>│\n",
       "├────────────┼─────────────────────────────────────────────────────────────────────────────┤\n",
       "│<span style=\"color: #008080; text-decoration-color: #008080\"> Input      </span>│<span style=\"color: #808000; text-decoration-color: #808000\"> output/branch 1 - step 1 - Preprocess Videos/pruebafernando-PP.isxd         </span>│\n",
       "├────────────┼─────────────────────────────────────────────────────────────────────────────┤\n",
       "│<span style=\"color: #008080; text-decoration-color: #008080\"> Output     </span>│<span style=\"color: #808000; text-decoration-color: #808000\"> output/branch 1 - step 2 - Bandpass Filter Videos/pruebafernando-PP-BP.isxd </span>│\n",
       "├────────────┼─────────────────────────────────────────────────────────────────────────────┤\n",
       "│<span style=\"color: #008080; text-decoration-color: #008080\"> Parameters </span>│<span style=\"color: #808000; text-decoration-color: #808000\"> low_cutoff: 0.005                                                           </span>│\n",
       "│<span style=\"color: #008080; text-decoration-color: #008080\">            </span>│<span style=\"color: #808000; text-decoration-color: #808000\"> high_cutoff: 0.7                                                            </span>│\n",
       "└────────────┴─────────────────────────────────────────────────────────────────────────────┘\n",
       "</pre>\n"
      ],
      "text/plain": [
       "\u001b[3m                                        Step 2 Info                                         \u001b[0m\n",
       "┏━━━━━━━━━━━━┳━━━━━━━━━━━━━━━━━━━━━━━━━━━━━━━━━━━━━━━━━━━━━━━━━━━━━━━━━━━━━━━━━━━━━━━━━━━━━┓\n",
       "┃\u001b[1m \u001b[0m\u001b[1mField     \u001b[0m\u001b[1m \u001b[0m┃\u001b[1m \u001b[0m\u001b[1mValue                                                                      \u001b[0m\u001b[1m \u001b[0m┃\n",
       "┡━━━━━━━━━━━━╇━━━━━━━━━━━━━━━━━━━━━━━━━━━━━━━━━━━━━━━━━━━━━━━━━━━━━━━━━━━━━━━━━━━━━━━━━━━━━┩\n",
       "│\u001b[36m \u001b[0m\u001b[36mAlgorithm \u001b[0m\u001b[36m \u001b[0m│\u001b[33m \u001b[0m\u001b[33mBandpass Filter Videos                                                     \u001b[0m\u001b[33m \u001b[0m│\n",
       "├────────────┼─────────────────────────────────────────────────────────────────────────────┤\n",
       "│\u001b[36m \u001b[0m\u001b[36mInput     \u001b[0m\u001b[36m \u001b[0m│\u001b[33m \u001b[0m\u001b[33moutput/branch 1 - step 1 - Preprocess Videos/pruebafernando-PP.isxd        \u001b[0m\u001b[33m \u001b[0m│\n",
       "├────────────┼─────────────────────────────────────────────────────────────────────────────┤\n",
       "│\u001b[36m \u001b[0m\u001b[36mOutput    \u001b[0m\u001b[36m \u001b[0m│\u001b[33m \u001b[0m\u001b[33moutput/branch 1 - step 2 - Bandpass Filter Videos/pruebafernando-PP-BP.isxd\u001b[0m\u001b[33m \u001b[0m│\n",
       "├────────────┼─────────────────────────────────────────────────────────────────────────────┤\n",
       "│\u001b[36m \u001b[0m\u001b[36mParameters\u001b[0m\u001b[36m \u001b[0m│\u001b[33m \u001b[0m\u001b[33mlow_cutoff: 0.005                                                          \u001b[0m\u001b[33m \u001b[0m│\n",
       "│\u001b[36m            \u001b[0m│\u001b[33m \u001b[0m\u001b[33mhigh_cutoff: 0.7                                                           \u001b[0m\u001b[33m \u001b[0m│\n",
       "└────────────┴─────────────────────────────────────────────────────────────────────────────┘\n"
      ]
     },
     "metadata": {},
     "output_type": "display_data"
    }
   ],
   "source": [
    "pipe.info(2)"
   ]
  },
  {
   "cell_type": "code",
   "execution_count": null,
   "id": "84375c23",
   "metadata": {},
   "outputs": [],
   "source": []
  }
 ],
 "metadata": {
  "kernelspec": {
   "display_name": "isxenv",
   "language": "python",
   "name": "python3"
  },
  "language_info": {
   "codemirror_mode": {
    "name": "ipython",
    "version": 3
   },
   "file_extension": ".py",
   "mimetype": "text/x-python",
   "name": "python",
   "nbconvert_exporter": "python",
   "pygments_lexer": "ipython3",
   "version": "3.10.18"
  }
 },
 "nbformat": 4,
 "nbformat_minor": 5
}
