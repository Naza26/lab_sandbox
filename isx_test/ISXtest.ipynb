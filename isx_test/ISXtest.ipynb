{
 "cells": [
  {
   "cell_type": "code",
   "execution_count": 290,
   "id": "5da9ced8",
   "metadata": {
    "ExecuteTime": {
     "end_time": "2025-08-03T13:19:31.550103Z",
     "start_time": "2025-08-03T13:19:31.534591Z"
    }
   },
   "outputs": [],
   "source": [
    "import sys\n",
    "import os\n",
    "import isx\n",
    "\n",
    "import version0.ci_pipe\n",
    "import version0.ci_pipe.pipeline\n",
    "\n",
    "base_path = os.path.abspath(os.path.join(os.getcwd(), '..'))\n",
    "if base_path not in sys.path:\n",
    "    sys.path.insert(0, base_path)\n",
    "\n",
    "import importlib\n",
    "import version0.isx_pipeline.isx_pipeline\n",
    "\n",
    "importlib.reload(version0.isx_pipeline.isx_pipeline)\n",
    "importlib.reload(version0.ci_pipe.pipeline)\n",
    "\n",
    "from version0.isx_pipeline.isx_pipeline import ISXPipeline"
   ]
  },
  {
   "cell_type": "code",
   "execution_count": 291,
   "id": "86f6a8bc",
   "metadata": {},
   "outputs": [
    {
     "data": {
      "text/plain": [
       "{'branch_name': 'otra',\n",
       " 'steps': {'1': {'algorithm': 'Preprocess Videos',\n",
       "   'input': ['videos/pruebafernando.isxd'],\n",
       "   'output': ['output/branch 1 - step 1 - Preprocess Videos/pruebafernando-PP.isxd']},\n",
       "  '2': {'algorithm': 'Preprocess Videos',\n",
       "   'input': ['output/branch 1 - step 1 - Preprocess Videos/pruebafernando-PP.isxd'],\n",
       "   'output': ['output/otra - step 2 - Preprocess Videos/pruebafernando-PP-PP.isxd']}}}"
      ]
     },
     "execution_count": 291,
     "metadata": {},
     "output_type": "execute_result"
    }
   ],
   "source": [
    "pipe = ISXPipeline.new(isx, \"videos\", \"output\")\n",
    "pipe.preprocess_videos()\n",
    "otrabranch = pipe.branch(\"otra\")\n",
    "otrabranch.preprocess_videos()\n",
    "pipe.preprocess_videos()\n",
    "otrabranch.trace()"
   ]
  },
  {
   "cell_type": "code",
   "execution_count": 266,
   "id": "89cdb9ecbf2c15fb",
   "metadata": {
    "ExecuteTime": {
     "end_time": "2025-08-03T13:19:38.684542Z",
     "start_time": "2025-08-03T13:19:38.679078Z"
    }
   },
   "outputs": [],
   "source": [
    "pipe = ISXPipeline.new(isx, \"videos\", \"output\")"
   ]
  },
  {
   "cell_type": "code",
   "execution_count": null,
   "id": "9d0612b9",
   "metadata": {},
   "outputs": [
    {
     "data": {
      "text/plain": [
       "{'branch_name': 'nueva',\n",
       " 'steps': {'1': {'algorithm': 'Preprocess Videos',\n",
       "   'input': ['videos/pruebafernando.isxd'],\n",
       "   'output': ['output/branch 1 - step 1 - Preprocess Videos/pruebafernando-PP.isxd']},\n",
       "  '2': {'algorithm': 'Preprocess Videos',\n",
       "   'input': ['output/branch 1 - step 1 - Preprocess Videos/pruebafernando-PP.isxd'],\n",
       "   'output': ['output/otra - step 2 - Preprocess Videos/pruebafernando-PP-PP.isxd']},\n",
       "  '3': {'algorithm': 'Preprocess Videos',\n",
       "   'input': ['output/otra - step 2 - Preprocess Videos/pruebafernando-PP-PP.isxd'],\n",
       "   'output': ['output/nueva - step 3 - Preprocess Videos/pruebafernando-PP-PP-PP.isxd']}}}"
      ]
     },
     "execution_count": 294,
     "metadata": {},
     "output_type": "execute_result"
    }
   ],
   "source": [
    "pipe.trace()"
   ]
  },
  {
   "cell_type": "code",
   "execution_count": 295,
   "id": "3e695c98",
   "metadata": {},
   "outputs": [
    {
     "data": {
      "text/plain": [
       "<version0.isx_pipeline.isx_pipeline.ISXPipeline at 0x7b2d9b2eb0a0>"
      ]
     },
     "execution_count": 295,
     "metadata": {},
     "output_type": "execute_result"
    }
   ],
   "source": [
    "pipe.preprocess_videos()\n"
   ]
  },
  {
   "cell_type": "code",
   "execution_count": null,
   "id": "a4c5de18",
   "metadata": {},
   "outputs": [],
   "source": [
    "otrabranch = pipe.branch(\"otra\")\n"
   ]
  },
  {
   "cell_type": "code",
   "execution_count": 270,
   "id": "c0fbfe89",
   "metadata": {},
   "outputs": [
    {
     "data": {
      "text/plain": [
       "<version0.isx_pipeline.isx_pipeline.ISXPipeline at 0x7b2d9b1c06a0>"
      ]
     },
     "execution_count": 270,
     "metadata": {},
     "output_type": "execute_result"
    }
   ],
   "source": [
    "otrabranch.preprocess_videos()\n",
    "pipe.preprocess_videos()"
   ]
  },
  {
   "cell_type": "code",
   "execution_count": 272,
   "id": "ca418986",
   "metadata": {},
   "outputs": [
    {
     "data": {
      "text/plain": [
       "{'branch_name': 'otra',\n",
       " 'steps': {'1': {'algorithm': 'Preprocess Videos',\n",
       "   'input': ['videos/pruebafernando.isxd'],\n",
       "   'output': ['output/branch 1 - step 1 - Preprocess Videos/pruebafernando-PP.isxd']},\n",
       "  '2': {'algorithm': 'Preprocess Videos',\n",
       "   'input': ['output/branch 1 - step 1 - Preprocess Videos/pruebafernando-PP.isxd'],\n",
       "   'output': ['output/otra - step 2 - Preprocess Videos/pruebafernando-PP-PP.isxd']}}}"
      ]
     },
     "execution_count": 272,
     "metadata": {},
     "output_type": "execute_result"
    }
   ],
   "source": [
    "otrabranch.trace()"
   ]
  },
  {
   "cell_type": "code",
   "execution_count": 15,
   "id": "2cf6386596d1d5c4",
   "metadata": {
    "ExecuteTime": {
     "end_time": "2025-08-03T13:26:44.768905Z",
     "start_time": "2025-08-03T13:26:42.500458Z"
    }
   },
   "outputs": [
    {
     "name": "stdout",
     "output_type": "stream",
     "text": [
      "isxJsonUtils.cpp:637: Exception - Error while seeking to length of JSON header at end.\n"
     ]
    },
    {
     "ename": "Exception",
     "evalue": "Error calling C library function isx_preprocess_movie.\nError while seeking to length of JSON header at end.",
     "output_type": "error",
     "traceback": [
      "\u001b[0;31m---------------------------------------------------------------------------\u001b[0m",
      "\u001b[0;31mException\u001b[0m                                 Traceback (most recent call last)",
      "Cell \u001b[0;32mIn[15], line 3\u001b[0m\n\u001b[1;32m      1\u001b[0m (\n\u001b[1;32m      2\u001b[0m     \u001b[43mpipe\u001b[49m\n\u001b[0;32m----> 3\u001b[0m \u001b[43m    \u001b[49m\u001b[38;5;241;43m.\u001b[39;49m\u001b[43mpreprocess_videos\u001b[49m\u001b[43m(\u001b[49m\u001b[43m)\u001b[49m\n\u001b[1;32m      4\u001b[0m     \u001b[38;5;241m.\u001b[39mbandpass_filter_videos()\n\u001b[1;32m      5\u001b[0m     \u001b[38;5;241m.\u001b[39mmotion_correction_videos()\n\u001b[1;32m      6\u001b[0m     \u001b[38;5;241m.\u001b[39mnormalize_dff_videos()\n\u001b[1;32m      7\u001b[0m     \u001b[38;5;241m.\u001b[39mextract_neurons_pca_ica()\n\u001b[1;32m      8\u001b[0m     \u001b[38;5;241m.\u001b[39mdetect_events_in_cells()\n\u001b[1;32m      9\u001b[0m     \u001b[38;5;241m.\u001b[39mauto_accept_reject_cells()\n\u001b[1;32m     10\u001b[0m )\n",
      "File \u001b[0;32m~/Documentos/lab_sandbox/version0/isx_pipeline/isx_pipeline.py:42\u001b[0m, in \u001b[0;36mISXPipeline.preprocess_videos\u001b[0;34m(self, name)\u001b[0m\n\u001b[1;32m     39\u001b[0m     \u001b[38;5;28mself\u001b[39m\u001b[38;5;241m.\u001b[39m_isx\u001b[38;5;241m.\u001b[39mpreprocess(input_videos, pp_files)\n\u001b[1;32m     40\u001b[0m     \u001b[38;5;28;01mreturn\u001b[39;00m { \u001b[38;5;124m'\u001b[39m\u001b[38;5;124mvideos\u001b[39m\u001b[38;5;124m'\u001b[39m: pp_files }\n\u001b[0;32m---> 42\u001b[0m \u001b[38;5;28;01mreturn\u001b[39;00m \u001b[38;5;28;43mself\u001b[39;49m\u001b[38;5;241;43m.\u001b[39;49m\u001b[43mstep\u001b[49m\u001b[43m(\u001b[49m\u001b[43mname\u001b[49m\u001b[43m,\u001b[49m\u001b[43m \u001b[49m\u001b[38;5;28;43;01mlambda\u001b[39;49;00m\u001b[43m \u001b[49m\u001b[38;5;28;43minput\u001b[39;49m\u001b[43m:\u001b[49m\u001b[43m \u001b[49m\u001b[43mwrapped_step\u001b[49m\u001b[43m(\u001b[49m\u001b[38;5;28;43minput\u001b[39;49m\u001b[43m)\u001b[49m\u001b[43m)\u001b[49m\n",
      "File \u001b[0;32m~/Documentos/lab_sandbox/version0/isx_pipeline/isx_pipeline.py:27\u001b[0m, in \u001b[0;36mISXPipeline.step\u001b[0;34m(self, step_name, step_function, *args)\u001b[0m\n\u001b[1;32m     24\u001b[0m step_folder_path \u001b[38;5;241m=\u001b[39m \u001b[38;5;28mself\u001b[39m\u001b[38;5;241m.\u001b[39m_step_folder_path(step_name)\n\u001b[1;32m     25\u001b[0m os\u001b[38;5;241m.\u001b[39mmakedirs(step_folder_path, exist_ok\u001b[38;5;241m=\u001b[39m\u001b[38;5;28;01mTrue\u001b[39;00m)\n\u001b[0;32m---> 27\u001b[0m result \u001b[38;5;241m=\u001b[39m \u001b[38;5;28;43msuper\u001b[39;49m\u001b[43m(\u001b[49m\u001b[43m)\u001b[49m\u001b[38;5;241;43m.\u001b[39;49m\u001b[43mstep\u001b[49m\u001b[43m(\u001b[49m\u001b[43mstep_name\u001b[49m\u001b[43m,\u001b[49m\u001b[43m \u001b[49m\u001b[43mstep_function\u001b[49m\u001b[43m,\u001b[49m\u001b[43m \u001b[49m\u001b[38;5;241;43m*\u001b[39;49m\u001b[43margs\u001b[49m\u001b[43m)\u001b[49m\n\u001b[1;32m     28\u001b[0m \u001b[38;5;28mself\u001b[39m\u001b[38;5;241m.\u001b[39m_update_trace()\n\u001b[1;32m     30\u001b[0m \u001b[38;5;28;01mreturn\u001b[39;00m result\n",
      "File \u001b[0;32m~/Documentos/lab_sandbox/version0/ci_pipe/pipeline.py:15\u001b[0m, in \u001b[0;36mCIPipe.step\u001b[0;34m(self, step_name, step_function, *args, **kwargs)\u001b[0m\n\u001b[1;32m     13\u001b[0m \u001b[38;5;28;01mdef\u001b[39;00m\u001b[38;5;250m \u001b[39m\u001b[38;5;21mstep\u001b[39m(\u001b[38;5;28mself\u001b[39m, step_name, step_function, \u001b[38;5;241m*\u001b[39margs, \u001b[38;5;241m*\u001b[39m\u001b[38;5;241m*\u001b[39mkwargs):\n\u001b[1;32m     14\u001b[0m     kwargs \u001b[38;5;241m=\u001b[39m {\u001b[38;5;241m*\u001b[39m\u001b[38;5;241m*\u001b[39m\u001b[38;5;28mself\u001b[39m\u001b[38;5;241m.\u001b[39m_defaults, \u001b[38;5;241m*\u001b[39m\u001b[38;5;241m*\u001b[39mkwargs}\n\u001b[0;32m---> 15\u001b[0m     new_step \u001b[38;5;241m=\u001b[39m \u001b[43mStep\u001b[49m\u001b[43m(\u001b[49m\u001b[43mstep_name\u001b[49m\u001b[43m,\u001b[49m\u001b[43m \u001b[49m\u001b[38;5;28;43mself\u001b[39;49m\u001b[38;5;241;43m.\u001b[39;49m\u001b[43mnext_step_input\u001b[49m\u001b[43m(\u001b[49m\u001b[43m)\u001b[49m\u001b[43m,\u001b[49m\u001b[43m \u001b[49m\u001b[38;5;28;43mself\u001b[39;49m\u001b[38;5;241;43m.\u001b[39;49m\u001b[43mlook_up_input\u001b[49m\u001b[43m,\u001b[49m\u001b[43m \u001b[49m\u001b[43mstep_function\u001b[49m\u001b[43m,\u001b[49m\u001b[43m \u001b[49m\u001b[43margs\u001b[49m\u001b[43m,\u001b[49m\u001b[43m \u001b[49m\u001b[43mkwargs\u001b[49m\u001b[43m)\u001b[49m\n\u001b[1;32m     16\u001b[0m     \u001b[38;5;28mself\u001b[39m\u001b[38;5;241m.\u001b[39m_steps\u001b[38;5;241m.\u001b[39mappend(new_step)\n\u001b[1;32m     17\u001b[0m     \u001b[38;5;28;01mreturn\u001b[39;00m \u001b[38;5;28mself\u001b[39m\n",
      "File \u001b[0;32m~/Documentos/lab_sandbox/version0/ci_pipe/step.py:8\u001b[0m, in \u001b[0;36mStep.__init__\u001b[0;34m(self, step_name, step_input, look_up_function, step_function, args, kwargs)\u001b[0m\n\u001b[1;32m      6\u001b[0m \u001b[38;5;28mself\u001b[39m\u001b[38;5;241m.\u001b[39m_args \u001b[38;5;241m=\u001b[39m args\n\u001b[1;32m      7\u001b[0m \u001b[38;5;28mself\u001b[39m\u001b[38;5;241m.\u001b[39m_kwargs \u001b[38;5;241m=\u001b[39m kwargs\n\u001b[0;32m----> 8\u001b[0m \u001b[38;5;28mself\u001b[39m\u001b[38;5;241m.\u001b[39m_step_outputs \u001b[38;5;241m=\u001b[39m \u001b[38;5;28;43mself\u001b[39;49m\u001b[38;5;241;43m.\u001b[39;49m\u001b[43m_step_function\u001b[49m\u001b[43m(\u001b[49m\u001b[43mlook_up_function\u001b[49m\u001b[43m,\u001b[49m\u001b[43m \u001b[49m\u001b[38;5;241;43m*\u001b[39;49m\u001b[43margs\u001b[49m\u001b[43m,\u001b[49m\u001b[43m \u001b[49m\u001b[38;5;241;43m*\u001b[39;49m\u001b[38;5;241;43m*\u001b[39;49m\u001b[43mkwargs\u001b[49m\u001b[43m)\u001b[49m\n",
      "File \u001b[0;32m~/Documentos/lab_sandbox/version0/isx_pipeline/isx_pipeline.py:42\u001b[0m, in \u001b[0;36mISXPipeline.preprocess_videos.<locals>.<lambda>\u001b[0;34m(input)\u001b[0m\n\u001b[1;32m     39\u001b[0m     \u001b[38;5;28mself\u001b[39m\u001b[38;5;241m.\u001b[39m_isx\u001b[38;5;241m.\u001b[39mpreprocess(input_videos, pp_files)\n\u001b[1;32m     40\u001b[0m     \u001b[38;5;28;01mreturn\u001b[39;00m { \u001b[38;5;124m'\u001b[39m\u001b[38;5;124mvideos\u001b[39m\u001b[38;5;124m'\u001b[39m: pp_files }\n\u001b[0;32m---> 42\u001b[0m \u001b[38;5;28;01mreturn\u001b[39;00m \u001b[38;5;28mself\u001b[39m\u001b[38;5;241m.\u001b[39mstep(name, \u001b[38;5;28;01mlambda\u001b[39;00m \u001b[38;5;28minput\u001b[39m: \u001b[43mwrapped_step\u001b[49m\u001b[43m(\u001b[49m\u001b[38;5;28;43minput\u001b[39;49m\u001b[43m)\u001b[49m)\n",
      "File \u001b[0;32m~/Documentos/lab_sandbox/version0/isx_pipeline/isx_pipeline.py:39\u001b[0m, in \u001b[0;36mISXPipeline.preprocess_videos.<locals>.wrapped_step\u001b[0;34m(input)\u001b[0m\n\u001b[1;32m     37\u001b[0m \u001b[38;5;28;01mdef\u001b[39;00m\u001b[38;5;250m \u001b[39m\u001b[38;5;21mwrapped_step\u001b[39m(\u001b[38;5;28minput\u001b[39m):\n\u001b[1;32m     38\u001b[0m     input_videos, pp_files \u001b[38;5;241m=\u001b[39m \u001b[38;5;28mself\u001b[39m\u001b[38;5;241m.\u001b[39m_input_and_output_files(\u001b[38;5;28minput\u001b[39m, \u001b[38;5;124m'\u001b[39m\u001b[38;5;124mvideos\u001b[39m\u001b[38;5;124m'\u001b[39m, name, \u001b[38;5;124m'\u001b[39m\u001b[38;5;124mPP\u001b[39m\u001b[38;5;124m'\u001b[39m)\n\u001b[0;32m---> 39\u001b[0m     \u001b[38;5;28;43mself\u001b[39;49m\u001b[38;5;241;43m.\u001b[39;49m\u001b[43m_isx\u001b[49m\u001b[38;5;241;43m.\u001b[39;49m\u001b[43mpreprocess\u001b[49m\u001b[43m(\u001b[49m\u001b[43minput_videos\u001b[49m\u001b[43m,\u001b[49m\u001b[43m \u001b[49m\u001b[43mpp_files\u001b[49m\u001b[43m)\u001b[49m\n\u001b[1;32m     40\u001b[0m     \u001b[38;5;28;01mreturn\u001b[39;00m { \u001b[38;5;124m'\u001b[39m\u001b[38;5;124mvideos\u001b[39m\u001b[38;5;124m'\u001b[39m: pp_files }\n",
      "File \u001b[0;32m~/Documentos/tpp/Inscopix Data Processing 1.9.6/Inscopix Data Processing.linux/Contents/API/Python/isx/algo.py:70\u001b[0m, in \u001b[0;36mpreprocess\u001b[0;34m(input_movie_files, output_movie_files, temporal_downsample_factor, spatial_downsample_factor, crop_rect, crop_rect_format, fix_defective_pixels, trim_early_frames)\u001b[0m\n\u001b[1;32m     67\u001b[0m     crop_rect \u001b[38;5;241m=\u001b[39m (top_left_y, top_left_x, bottom_right_y, bottom_right_x)\n\u001b[1;32m     69\u001b[0m num_files, in_arr, out_arr \u001b[38;5;241m=\u001b[39m isx\u001b[38;5;241m.\u001b[39m_internal\u001b[38;5;241m.\u001b[39mcheck_input_and_output_files(input_movie_files, output_movie_files)\n\u001b[0;32m---> 70\u001b[0m \u001b[43misx\u001b[49m\u001b[38;5;241;43m.\u001b[39;49m\u001b[43m_internal\u001b[49m\u001b[38;5;241;43m.\u001b[39;49m\u001b[43mc_api\u001b[49m\u001b[38;5;241;43m.\u001b[39;49m\u001b[43misx_preprocess_movie\u001b[49m\u001b[43m(\u001b[49m\n\u001b[1;32m     71\u001b[0m \u001b[43m        \u001b[49m\u001b[43mnum_files\u001b[49m\u001b[43m,\u001b[49m\u001b[43m \u001b[49m\u001b[43min_arr\u001b[49m\u001b[43m,\u001b[49m\u001b[43m \u001b[49m\u001b[43mout_arr\u001b[49m\u001b[43m,\u001b[49m\u001b[43m \u001b[49m\u001b[43mtemporal_downsample_factor\u001b[49m\u001b[43m,\u001b[49m\u001b[43m \u001b[49m\u001b[43mspatial_downsample_factor\u001b[49m\u001b[43m,\u001b[49m\n\u001b[1;32m     72\u001b[0m \u001b[43m        \u001b[49m\u001b[43mcrop_rect\u001b[49m\u001b[43m[\u001b[49m\u001b[38;5;241;43m0\u001b[39;49m\u001b[43m]\u001b[49m\u001b[43m,\u001b[49m\u001b[43m \u001b[49m\u001b[43mcrop_rect\u001b[49m\u001b[43m[\u001b[49m\u001b[38;5;241;43m1\u001b[39;49m\u001b[43m]\u001b[49m\u001b[43m,\u001b[49m\u001b[43m \u001b[49m\u001b[43mcrop_rect\u001b[49m\u001b[43m[\u001b[49m\u001b[38;5;241;43m2\u001b[39;49m\u001b[43m]\u001b[49m\u001b[43m,\u001b[49m\u001b[43m \u001b[49m\u001b[43mcrop_rect\u001b[49m\u001b[43m[\u001b[49m\u001b[38;5;241;43m3\u001b[39;49m\u001b[43m]\u001b[49m\u001b[43m,\u001b[49m\u001b[43m \u001b[49m\u001b[43mfix_defective_pixels\u001b[49m\u001b[43m,\u001b[49m\u001b[43m \u001b[49m\u001b[43mtrim_early_frames\u001b[49m\u001b[43m)\u001b[49m\n",
      "File \u001b[0;32m~/Documentos/tpp/Inscopix Data Processing 1.9.6/Inscopix Data Processing.linux/Contents/API/Python/isx/_internal.py:118\u001b[0m, in \u001b[0;36m_standard_errcheck\u001b[0;34m(return_code, func, args)\u001b[0m\n\u001b[1;32m    116\u001b[0m \u001b[38;5;28;01mif\u001b[39;00m return_code \u001b[38;5;241m!=\u001b[39m \u001b[38;5;241m0\u001b[39m:\n\u001b[1;32m    117\u001b[0m     error_message \u001b[38;5;241m=\u001b[39m c_api\u001b[38;5;241m.\u001b[39misx_get_last_exception_string()\u001b[38;5;241m.\u001b[39mdecode()\n\u001b[0;32m--> 118\u001b[0m     \u001b[38;5;28;01mraise\u001b[39;00m \u001b[38;5;167;01mException\u001b[39;00m(\u001b[38;5;124m\"\u001b[39m\u001b[38;5;124mError calling C library function \u001b[39m\u001b[38;5;132;01m{}\u001b[39;00m\u001b[38;5;124m.\u001b[39m\u001b[38;5;130;01m\\n\u001b[39;00m\u001b[38;5;132;01m{}\u001b[39;00m\u001b[38;5;124m\"\u001b[39m\u001b[38;5;241m.\u001b[39mformat(func\u001b[38;5;241m.\u001b[39m\u001b[38;5;18m__name__\u001b[39m, error_message))\n\u001b[1;32m    119\u001b[0m \u001b[38;5;28;01mreturn\u001b[39;00m args\n",
      "\u001b[0;31mException\u001b[0m: Error calling C library function isx_preprocess_movie.\nError while seeking to length of JSON header at end."
     ]
    }
   ],
   "source": [
    "(\n",
    "    pipe\n",
    "    .preprocess_videos()\n",
    "    .bandpass_filter_videos()\n",
    "    .motion_correction_videos()\n",
    "    .normalize_dff_videos()\n",
    "    .extract_neurons_pca_ica()\n",
    "    .detect_events_in_cells()\n",
    "    .auto_accept_reject_cells()\n",
    ")\n"
   ]
  },
  {
   "cell_type": "code",
   "execution_count": 7,
   "id": "f2822b499aef5fc5",
   "metadata": {
    "ExecuteTime": {
     "end_time": "2025-08-03T13:26:50.997534Z",
     "start_time": "2025-08-03T13:26:50.991386Z"
    }
   },
   "outputs": [
    {
     "data": {
      "text/plain": [
       "{'1': {'algorithm': 'Preprocess Videos',\n",
       "  'input': ['videos\\\\2021-10-21-11-57-27_video_trig_0-efocus_1000-PP.isxd'],\n",
       "  'output': ['output\\\\step 1 - Preprocess Videos\\\\2021-10-21-11-57-27_video_trig_0-efocus_1000-PP-PP.isxd']},\n",
       " '2': {'algorithm': 'Bandpass Filter Videos',\n",
       "  'input': ['output\\\\step 1 - Preprocess Videos\\\\2021-10-21-11-57-27_video_trig_0-efocus_1000-PP-PP.isxd'],\n",
       "  'output': ['output\\\\step 2 - Bandpass Filter Videos\\\\2021-10-21-11-57-27_video_trig_0-efocus_1000-PP-PP-BP.isxd']},\n",
       " '3': {'algorithm': 'Motion Correction Videos',\n",
       "  'input': ['output\\\\step 2 - Bandpass Filter Videos\\\\2021-10-21-11-57-27_video_trig_0-efocus_1000-PP-PP-BP.isxd'],\n",
       "  'output': ['output\\\\step 3 - Motion Correction Videos\\\\2021-10-21-11-57-27_video_trig_0-efocus_1000-PP-PP-BP-MC.isxd',\n",
       "   'output\\\\step 3 - Motion Correction Videos\\\\2021-10-21-11-57-27_video_trig_0-efocus_1000-PP-PP-BP-MC-translations.csv',\n",
       "   'output\\\\step 3 - Motion Correction Videos\\\\series-crop_rect.csv',\n",
       "   'output\\\\step 3 - Motion Correction Videos\\\\series-mean_image.isxd']},\n",
       " '4': {'algorithm': 'Normalize dF/F Videos',\n",
       "  'input': ['output\\\\step 3 - Motion Correction Videos\\\\2021-10-21-11-57-27_video_trig_0-efocus_1000-PP-PP-BP-MC.isxd',\n",
       "   'output\\\\step 3 - Motion Correction Videos\\\\2021-10-21-11-57-27_video_trig_0-efocus_1000-PP-PP-BP-MC-translations.csv',\n",
       "   'output\\\\step 3 - Motion Correction Videos\\\\series-crop_rect.csv',\n",
       "   'output\\\\step 3 - Motion Correction Videos\\\\series-mean_image.isxd'],\n",
       "  'output': ['output\\\\step 4 - Normalize dF/F Videos\\\\2021-10-21-11-57-27_video_trig_0-efocus_1000-PP-PP-BP-MC-DFF.isxd']},\n",
       " '5': {'algorithm': 'Extract Neurons PCA-ICA',\n",
       "  'input': ['output\\\\step 4 - Normalize dF/F Videos\\\\2021-10-21-11-57-27_video_trig_0-efocus_1000-PP-PP-BP-MC-DFF.isxd'],\n",
       "  'output': ['output\\\\step 5 - Extract Neurons PCA-ICA\\\\2021-10-21-11-57-27_video_trig_0-efocus_1000-PP-PP-BP-MC-DFF-PCA-ICA.isxd']},\n",
       " '6': {'algorithm': 'Detect Events in Cells',\n",
       "  'input': ['output\\\\step 5 - Extract Neurons PCA-ICA\\\\2021-10-21-11-57-27_video_trig_0-efocus_1000-PP-PP-BP-MC-DFF-PCA-ICA.isxd'],\n",
       "  'output': ['output\\\\step 6 - Detect Events in Cells\\\\2021-10-21-11-57-27_video_trig_0-efocus_1000-PP-PP-BP-MC-DFF-PCA-ICA-ED.isxd']},\n",
       " '7': {'algorithm': 'Auto Accept-Reject Cells',\n",
       "  'input': ['output\\\\step 6 - Detect Events in Cells\\\\2021-10-21-11-57-27_video_trig_0-efocus_1000-PP-PP-BP-MC-DFF-PCA-ICA-ED.isxd'],\n",
       "  'output': ['output\\\\step 7 - Auto Accept-Reject Cells\\\\2021-10-21-11-57-27_video_trig_0-efocus_1000-PP-PP-BP-MC-DFF-PCA-ICA.isxd']}}"
      ]
     },
     "execution_count": 7,
     "metadata": {},
     "output_type": "execute_result"
    }
   ],
   "source": [
    "pipe.trace()"
   ]
  },
  {
   "cell_type": "code",
   "execution_count": 8,
   "id": "e45265a82ffcf19f",
   "metadata": {
    "ExecuteTime": {
     "end_time": "2025-08-03T13:26:57.841844Z",
     "start_time": "2025-08-03T13:26:57.835703Z"
    }
   },
   "outputs": [
    {
     "data": {
      "text/plain": [
       "{'steps': [{'name': 'Preprocess Videos',\n",
       "   'input': {'videos': ['videos\\\\2021-10-21-11-57-27_video_trig_0-efocus_1000-PP.isxd']},\n",
       "   'output': {'videos': ['output\\\\step 1 - Preprocess Videos\\\\2021-10-21-11-57-27_video_trig_0-efocus_1000-PP-PP.isxd']},\n",
       "   'args': (),\n",
       "   'kwargs': {}},\n",
       "  {'name': 'Bandpass Filter Videos',\n",
       "   'input': {'videos': ['output\\\\step 1 - Preprocess Videos\\\\2021-10-21-11-57-27_video_trig_0-efocus_1000-PP-PP.isxd']},\n",
       "   'output': {'videos': ['output\\\\step 2 - Bandpass Filter Videos\\\\2021-10-21-11-57-27_video_trig_0-efocus_1000-PP-PP-BP.isxd']},\n",
       "   'args': (),\n",
       "   'kwargs': {}},\n",
       "  {'name': 'Motion Correction Videos',\n",
       "   'input': {'videos': ['output\\\\step 2 - Bandpass Filter Videos\\\\2021-10-21-11-57-27_video_trig_0-efocus_1000-PP-PP-BP.isxd']},\n",
       "   'output': {'videos': ['output\\\\step 3 - Motion Correction Videos\\\\2021-10-21-11-57-27_video_trig_0-efocus_1000-PP-PP-BP-MC.isxd'],\n",
       "    'translations': ['output\\\\step 3 - Motion Correction Videos\\\\2021-10-21-11-57-27_video_trig_0-efocus_1000-PP-PP-BP-MC-translations.csv'],\n",
       "    'crop_rect': ['output\\\\step 3 - Motion Correction Videos\\\\series-crop_rect.csv'],\n",
       "    'mean_projection': ['output\\\\step 3 - Motion Correction Videos\\\\series-mean_image.isxd']},\n",
       "   'args': (),\n",
       "   'kwargs': {}},\n",
       "  {'name': 'Normalize dF/F Videos',\n",
       "   'input': {'videos': ['output\\\\step 3 - Motion Correction Videos\\\\2021-10-21-11-57-27_video_trig_0-efocus_1000-PP-PP-BP-MC.isxd'],\n",
       "    'translations': ['output\\\\step 3 - Motion Correction Videos\\\\2021-10-21-11-57-27_video_trig_0-efocus_1000-PP-PP-BP-MC-translations.csv'],\n",
       "    'crop_rect': ['output\\\\step 3 - Motion Correction Videos\\\\series-crop_rect.csv'],\n",
       "    'mean_projection': ['output\\\\step 3 - Motion Correction Videos\\\\series-mean_image.isxd']},\n",
       "   'output': {'videos': ['output\\\\step 4 - Normalize dF/F Videos\\\\2021-10-21-11-57-27_video_trig_0-efocus_1000-PP-PP-BP-MC-DFF.isxd']},\n",
       "   'args': (),\n",
       "   'kwargs': {}},\n",
       "  {'name': 'Extract Neurons PCA-ICA',\n",
       "   'input': {'videos': ['output\\\\step 4 - Normalize dF/F Videos\\\\2021-10-21-11-57-27_video_trig_0-efocus_1000-PP-PP-BP-MC-DFF.isxd']},\n",
       "   'output': {'cellsets': ['output\\\\step 5 - Extract Neurons PCA-ICA\\\\2021-10-21-11-57-27_video_trig_0-efocus_1000-PP-PP-BP-MC-DFF-PCA-ICA.isxd']},\n",
       "   'args': (),\n",
       "   'kwargs': {}},\n",
       "  {'name': 'Detect Events in Cells',\n",
       "   'input': {'cellsets': ['output\\\\step 5 - Extract Neurons PCA-ICA\\\\2021-10-21-11-57-27_video_trig_0-efocus_1000-PP-PP-BP-MC-DFF-PCA-ICA.isxd']},\n",
       "   'output': {'events': ['output\\\\step 6 - Detect Events in Cells\\\\2021-10-21-11-57-27_video_trig_0-efocus_1000-PP-PP-BP-MC-DFF-PCA-ICA-ED.isxd']},\n",
       "   'args': (),\n",
       "   'kwargs': {}},\n",
       "  {'name': 'Auto Accept-Reject Cells',\n",
       "   'input': {'events': ['output\\\\step 6 - Detect Events in Cells\\\\2021-10-21-11-57-27_video_trig_0-efocus_1000-PP-PP-BP-MC-DFF-PCA-ICA-ED.isxd']},\n",
       "   'output': {'cellsets': ['output\\\\step 7 - Auto Accept-Reject Cells\\\\2021-10-21-11-57-27_video_trig_0-efocus_1000-PP-PP-BP-MC-DFF-PCA-ICA.isxd']},\n",
       "   'args': (),\n",
       "   'kwargs': {}}],\n",
       " 'inputs': {'videos': ['videos\\\\2021-10-21-11-57-27_video_trig_0-efocus_1000-PP.isxd']},\n",
       " 'output': {'cellsets': ['output\\\\step 7 - Auto Accept-Reject Cells\\\\2021-10-21-11-57-27_video_trig_0-efocus_1000-PP-PP-BP-MC-DFF-PCA-ICA.isxd']}}"
      ]
     },
     "execution_count": 8,
     "metadata": {},
     "output_type": "execute_result"
    }
   ],
   "source": [
    "pipe.info()"
   ]
  }
 ],
 "metadata": {
  "kernelspec": {
   "display_name": "isxenv",
   "language": "python",
   "name": "python3"
  },
  "language_info": {
   "codemirror_mode": {
    "name": "ipython",
    "version": 3
   },
   "file_extension": ".py",
   "mimetype": "text/x-python",
   "name": "python",
   "nbconvert_exporter": "python",
   "pygments_lexer": "ipython3",
   "version": "3.10.18"
  }
 },
 "nbformat": 4,
 "nbformat_minor": 5
}
