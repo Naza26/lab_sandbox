{
 "cells": [
  {
   "cell_type": "code",
   "execution_count": 37,
   "id": "dd87655b",
   "metadata": {
    "ExecuteTime": {
     "end_time": "2025-08-03T12:58:37.355956Z",
     "start_time": "2025-08-03T12:58:36.867036Z"
    }
   },
   "outputs": [],
   "source": [
    "import isx\n",
    "from isx_pipeline import ISXPipeline"
   ]
  },
  {
   "cell_type": "code",
   "execution_count": 38,
   "id": "5da9ced8",
   "metadata": {
    "ExecuteTime": {
     "end_time": "2025-08-03T13:19:31.550103Z",
     "start_time": "2025-08-03T13:19:31.534591Z"
    }
   },
   "outputs": [],
   "source": [
    "import sys\n",
    "import os\n",
    "\n",
    "base_path = os.path.abspath(os.path.join(os.getcwd(), '..'))\n",
    "if base_path not in sys.path:\n",
    "    sys.path.insert(0, base_path)\n",
    "\n",
    "import importlib\n",
    "import version0.isx_pipeline.isx_pipeline\n",
    "\n",
    "importlib.reload(version0.isx_pipeline.isx_pipeline)\n",
    "\n",
    "from version0.isx_pipeline.isx_pipeline import ISXPipeline"
   ]
  },
  {
   "cell_type": "code",
   "execution_count": 33,
   "id": "89cdb9ecbf2c15fb",
   "metadata": {
    "ExecuteTime": {
     "end_time": "2025-08-03T13:19:38.684542Z",
     "start_time": "2025-08-03T13:19:38.679078Z"
    }
   },
   "outputs": [],
   "source": [
    "pipe = ISXPipeline.new(isx, \"videos\", \"output\")"
   ]
  },
  {
   "cell_type": "code",
   "execution_count": 34,
   "id": "9baeb059b7221b41",
   "metadata": {
    "ExecuteTime": {
     "end_time": "2025-08-03T13:19:40.286283Z",
     "start_time": "2025-08-03T13:19:40.282033Z"
    }
   },
   "outputs": [
    {
     "data": {
      "text/plain": [
       "{'steps': [],\n",
       " 'inputs': {'videos': ['videos\\\\2021-10-21-11-57-27_video_trig_0-efocus_1000-PP.isxd',\n",
       "   'videos\\\\2021-10-22-11-57-27_video_trig_0-efocus_1000-PP.isxd']},\n",
       " 'output': {'videos': ['videos\\\\2021-10-21-11-57-27_video_trig_0-efocus_1000-PP.isxd',\n",
       "   'videos\\\\2021-10-22-11-57-27_video_trig_0-efocus_1000-PP.isxd']},\n",
       " 'defaults': {}}"
      ]
     },
     "execution_count": 34,
     "metadata": {},
     "output_type": "execute_result"
    }
   ],
   "source": [
    "pipe.info()"
   ]
  },
  {
   "cell_type": "code",
   "execution_count": 35,
   "id": "2b163d7ad4630de7",
   "metadata": {
    "ExecuteTime": {
     "end_time": "2025-08-03T13:20:13.377951Z",
     "start_time": "2025-08-03T13:20:13.374004Z"
    }
   },
   "outputs": [
    {
     "data": {
      "text/plain": [
       "{}"
      ]
     },
     "execution_count": 35,
     "metadata": {},
     "output_type": "execute_result"
    }
   ],
   "source": [
    "pipe.trace()"
   ]
  },
  {
   "cell_type": "code",
   "execution_count": 36,
   "id": "2cf6386596d1d5c4",
   "metadata": {
    "ExecuteTime": {
     "end_time": "2025-08-03T13:26:44.768905Z",
     "start_time": "2025-08-03T13:26:42.500458Z"
    }
   },
   "outputs": [
    {
     "ename": "Exception",
     "evalue": "Error calling C library function isx_classify_cell_status.\nUnable to insert data that temporally overlaps with other parts of the series. Data sets in a series must all be non-overlapping.",
     "output_type": "error",
     "traceback": [
      "\u001b[1;31m---------------------------------------------------------------------------\u001b[0m",
      "\u001b[1;31mException\u001b[0m                                 Traceback (most recent call last)",
      "Cell \u001b[1;32mIn[36], line 9\u001b[0m\n\u001b[0;32m      1\u001b[0m (\n\u001b[0;32m      2\u001b[0m     \u001b[43mpipe\u001b[49m\n\u001b[0;32m      3\u001b[0m \u001b[43m    \u001b[49m\u001b[38;5;241;43m.\u001b[39;49m\u001b[43mpreprocess_videos\u001b[49m\u001b[43m(\u001b[49m\u001b[43m)\u001b[49m\n\u001b[0;32m      4\u001b[0m \u001b[43m    \u001b[49m\u001b[38;5;241;43m.\u001b[39;49m\u001b[43mbandpass_filter_videos\u001b[49m\u001b[43m(\u001b[49m\u001b[43m)\u001b[49m\n\u001b[0;32m      5\u001b[0m \u001b[43m    \u001b[49m\u001b[38;5;241;43m.\u001b[39;49m\u001b[43mmotion_correction_videos\u001b[49m\u001b[43m(\u001b[49m\u001b[43m)\u001b[49m\n\u001b[0;32m      6\u001b[0m \u001b[43m    \u001b[49m\u001b[38;5;241;43m.\u001b[39;49m\u001b[43mnormalize_dff_videos\u001b[49m\u001b[43m(\u001b[49m\u001b[43m)\u001b[49m\n\u001b[0;32m      7\u001b[0m \u001b[43m    \u001b[49m\u001b[38;5;241;43m.\u001b[39;49m\u001b[43mextract_neurons_pca_ica\u001b[49m\u001b[43m(\u001b[49m\u001b[43m)\u001b[49m\n\u001b[0;32m      8\u001b[0m \u001b[43m    \u001b[49m\u001b[38;5;241;43m.\u001b[39;49m\u001b[43mdetect_events_in_cells\u001b[49m\u001b[43m(\u001b[49m\u001b[43m)\u001b[49m\n\u001b[1;32m----> 9\u001b[0m \u001b[43m    \u001b[49m\u001b[38;5;241;43m.\u001b[39;49m\u001b[43mauto_accept_reject_cells\u001b[49m\u001b[43m(\u001b[49m\u001b[43m)\u001b[49m\n\u001b[0;32m     10\u001b[0m )\n",
      "File \u001b[1;32mc:\\Users\\joaqu\\Documents\\TPP\\TR\\lab_sandbox\\version0\\isx_pipeline\\isx_pipeline.py:118\u001b[0m, in \u001b[0;36mauto_accept_reject_cells\u001b[1;34m(self, name)\u001b[0m\n\u001b[0;32m      0\u001b[0m <Error retrieving source code with stack_data see ipython/ipython#13598>\n",
      "File \u001b[1;32mc:\\Users\\joaqu\\Documents\\TPP\\TR\\lab_sandbox\\version0\\isx_pipeline\\isx_pipeline.py:27\u001b[0m, in \u001b[0;36mISXPipeline.step\u001b[1;34m(self, step_name, step_function, *args)\u001b[0m\n\u001b[0;32m     24\u001b[0m step_folder_path \u001b[38;5;241m=\u001b[39m \u001b[38;5;28mself\u001b[39m\u001b[38;5;241m.\u001b[39m_step_folder_path(step_name)\n\u001b[0;32m     25\u001b[0m os\u001b[38;5;241m.\u001b[39mmakedirs(step_folder_path, exist_ok\u001b[38;5;241m=\u001b[39m\u001b[38;5;28;01mTrue\u001b[39;00m)\n\u001b[1;32m---> 27\u001b[0m result \u001b[38;5;241m=\u001b[39m \u001b[38;5;28;43msuper\u001b[39;49m\u001b[43m(\u001b[49m\u001b[43m)\u001b[49m\u001b[38;5;241;43m.\u001b[39;49m\u001b[43mstep\u001b[49m\u001b[43m(\u001b[49m\u001b[43mstep_name\u001b[49m\u001b[43m,\u001b[49m\u001b[43m \u001b[49m\u001b[43mstep_function\u001b[49m\u001b[43m,\u001b[49m\u001b[43m \u001b[49m\u001b[38;5;241;43m*\u001b[39;49m\u001b[43margs\u001b[49m\u001b[43m)\u001b[49m\n\u001b[0;32m     28\u001b[0m \u001b[38;5;28mself\u001b[39m\u001b[38;5;241m.\u001b[39m_update_trace()\n\u001b[0;32m     30\u001b[0m \u001b[38;5;28;01mreturn\u001b[39;00m result\n",
      "File \u001b[1;32m~\\Documents\\TPP\\TR\\lab_sandbox\\version0\\ci_pipe\\pipeline.py:15\u001b[0m, in \u001b[0;36mCIPipe.step\u001b[1;34m(self, step_name, step_function, *args, **kwargs)\u001b[0m\n\u001b[0;32m     13\u001b[0m \u001b[38;5;28;01mdef\u001b[39;00m\u001b[38;5;250m \u001b[39m\u001b[38;5;21mstep\u001b[39m(\u001b[38;5;28mself\u001b[39m, step_name, step_function, \u001b[38;5;241m*\u001b[39margs, \u001b[38;5;241m*\u001b[39m\u001b[38;5;241m*\u001b[39mkwargs):\n\u001b[0;32m     14\u001b[0m     kwargs \u001b[38;5;241m=\u001b[39m {\u001b[38;5;241m*\u001b[39m\u001b[38;5;241m*\u001b[39m\u001b[38;5;28mself\u001b[39m\u001b[38;5;241m.\u001b[39m_defaults, \u001b[38;5;241m*\u001b[39m\u001b[38;5;241m*\u001b[39mkwargs}\n\u001b[1;32m---> 15\u001b[0m     new_step \u001b[38;5;241m=\u001b[39m \u001b[43mStep\u001b[49m\u001b[43m(\u001b[49m\u001b[43mstep_name\u001b[49m\u001b[43m,\u001b[49m\u001b[43m \u001b[49m\u001b[38;5;28;43mself\u001b[39;49m\u001b[38;5;241;43m.\u001b[39;49m\u001b[43mnext_step_input\u001b[49m\u001b[43m(\u001b[49m\u001b[43m)\u001b[49m\u001b[43m,\u001b[49m\u001b[43m \u001b[49m\u001b[38;5;28;43mself\u001b[39;49m\u001b[38;5;241;43m.\u001b[39;49m\u001b[43mlook_up_input\u001b[49m\u001b[43m,\u001b[49m\u001b[43m \u001b[49m\u001b[43mstep_function\u001b[49m\u001b[43m,\u001b[49m\u001b[43m \u001b[49m\u001b[43margs\u001b[49m\u001b[43m,\u001b[49m\u001b[43m \u001b[49m\u001b[43mkwargs\u001b[49m\u001b[43m)\u001b[49m\n\u001b[0;32m     16\u001b[0m     \u001b[38;5;28mself\u001b[39m\u001b[38;5;241m.\u001b[39m_steps\u001b[38;5;241m.\u001b[39mappend(new_step)\n\u001b[0;32m     17\u001b[0m     \u001b[38;5;28;01mreturn\u001b[39;00m \u001b[38;5;28mself\u001b[39m\n",
      "File \u001b[1;32m~\\Documents\\TPP\\TR\\lab_sandbox\\version0\\ci_pipe\\step.py:8\u001b[0m, in \u001b[0;36mStep.__init__\u001b[1;34m(self, step_name, step_input, look_up_function, step_function, args, kwargs)\u001b[0m\n\u001b[0;32m      6\u001b[0m \u001b[38;5;28mself\u001b[39m\u001b[38;5;241m.\u001b[39m_args \u001b[38;5;241m=\u001b[39m args\n\u001b[0;32m      7\u001b[0m \u001b[38;5;28mself\u001b[39m\u001b[38;5;241m.\u001b[39m_kwargs \u001b[38;5;241m=\u001b[39m kwargs\n\u001b[1;32m----> 8\u001b[0m \u001b[38;5;28mself\u001b[39m\u001b[38;5;241m.\u001b[39m_step_outputs \u001b[38;5;241m=\u001b[39m \u001b[38;5;28mself\u001b[39m\u001b[38;5;241m.\u001b[39m_step_function(look_up_function, \u001b[38;5;241m*\u001b[39margs, \u001b[38;5;241m*\u001b[39m\u001b[38;5;241m*\u001b[39mkwargs)\n",
      "File \u001b[1;32mc:\\Users\\joaqu\\Documents\\TPP\\TR\\lab_sandbox\\version0\\isx_pipeline\\isx_pipeline.py:118\u001b[0m, in \u001b[0;36m<lambda>\u001b[1;34m(input)\u001b[0m\n\u001b[0;32m      0\u001b[0m <Error retrieving source code with stack_data see ipython/ipython#13598>\n",
      "File \u001b[1;32mc:\\Users\\joaqu\\Documents\\TPP\\TR\\lab_sandbox\\version0\\isx_pipeline\\isx_pipeline.py:115\u001b[0m, in \u001b[0;36mISXPipeline.auto_accept_reject_cells.<locals>.wrapped_step\u001b[1;34m(input)\u001b[0m\n\u001b[0;32m    113\u001b[0m filters \u001b[38;5;241m=\u001b[39m [(\u001b[38;5;124m'\u001b[39m\u001b[38;5;124mSNR\u001b[39m\u001b[38;5;124m'\u001b[39m, \u001b[38;5;124m'\u001b[39m\u001b[38;5;124m>\u001b[39m\u001b[38;5;124m'\u001b[39m, \u001b[38;5;241m3\u001b[39m), (\u001b[38;5;124m'\u001b[39m\u001b[38;5;124mEvent Rate\u001b[39m\u001b[38;5;124m'\u001b[39m, \u001b[38;5;124m'\u001b[39m\u001b[38;5;124m>\u001b[39m\u001b[38;5;124m'\u001b[39m, \u001b[38;5;241m0\u001b[39m), (\u001b[38;5;124m'\u001b[39m\u001b[38;5;124m# Comps\u001b[39m\u001b[38;5;124m'\u001b[39m, \u001b[38;5;124m'\u001b[39m\u001b[38;5;124m=\u001b[39m\u001b[38;5;124m'\u001b[39m, \u001b[38;5;241m1\u001b[39m)]\n\u001b[0;32m    114\u001b[0m \u001b[38;5;28;01mfor\u001b[39;00m cellset \u001b[38;5;129;01min\u001b[39;00m copied_cellsets:\n\u001b[1;32m--> 115\u001b[0m     \u001b[38;5;28;43mself\u001b[39;49m\u001b[38;5;241;43m.\u001b[39;49m\u001b[43m_isx\u001b[49m\u001b[38;5;241;43m.\u001b[39;49m\u001b[43mauto_accept_reject\u001b[49m\u001b[43m(\u001b[49m\u001b[43m[\u001b[49m\u001b[43mcellset\u001b[49m\u001b[43m]\u001b[49m\u001b[43m,\u001b[49m\u001b[43m \u001b[49m\u001b[43minput_events\u001b[49m\u001b[43m,\u001b[49m\u001b[43m \u001b[49m\u001b[43mfilters\u001b[49m\u001b[43m)\u001b[49m\n\u001b[0;32m    116\u001b[0m \u001b[38;5;28;01mreturn\u001b[39;00m { \u001b[38;5;124m'\u001b[39m\u001b[38;5;124mcellsets\u001b[39m\u001b[38;5;124m'\u001b[39m: copied_cellsets }\n",
      "File \u001b[1;32mC:\\Program Files\\Inscopix\\Data Processing\\isx\\algo.py:637\u001b[0m, in \u001b[0;36mauto_accept_reject\u001b[1;34m(input_cell_set_files, input_event_set_files, filters)\u001b[0m\n\u001b[0;32m    634\u001b[0m in_operators \u001b[38;5;241m=\u001b[39m isx\u001b[38;5;241m.\u001b[39m_internal\u001b[38;5;241m.\u001b[39mlist_to_ctypes_array(operators, ctypes\u001b[38;5;241m.\u001b[39mc_char_p)\n\u001b[0;32m    635\u001b[0m in_values \u001b[38;5;241m=\u001b[39m isx\u001b[38;5;241m.\u001b[39m_internal\u001b[38;5;241m.\u001b[39mlist_to_ctypes_array(values, ctypes\u001b[38;5;241m.\u001b[39mc_double)\n\u001b[1;32m--> 637\u001b[0m \u001b[43misx\u001b[49m\u001b[38;5;241;43m.\u001b[39;49m\u001b[43m_internal\u001b[49m\u001b[38;5;241;43m.\u001b[39;49m\u001b[43mc_api\u001b[49m\u001b[38;5;241;43m.\u001b[39;49m\u001b[43misx_classify_cell_status\u001b[49m\u001b[43m(\u001b[49m\n\u001b[0;32m    638\u001b[0m \u001b[43m        \u001b[49m\u001b[43mnum_cell_sets\u001b[49m\u001b[43m,\u001b[49m\u001b[43m \u001b[49m\u001b[43min_cell_arr\u001b[49m\u001b[43m,\u001b[49m\u001b[43m \u001b[49m\u001b[43mnum_event_sets\u001b[49m\u001b[43m,\u001b[49m\u001b[43m \u001b[49m\u001b[43min_event_arr\u001b[49m\u001b[43m,\u001b[49m\n\u001b[0;32m    639\u001b[0m \u001b[43m        \u001b[49m\u001b[43mnum_filters\u001b[49m\u001b[43m,\u001b[49m\u001b[43m \u001b[49m\u001b[43min_statistics\u001b[49m\u001b[43m,\u001b[49m\u001b[43m \u001b[49m\u001b[43min_operators\u001b[49m\u001b[43m,\u001b[49m\u001b[43m \u001b[49m\u001b[43min_values\u001b[49m\u001b[43m,\u001b[49m\n\u001b[0;32m    640\u001b[0m \u001b[43m        \u001b[49m\u001b[38;5;241;43m0\u001b[39;49m\u001b[43m,\u001b[49m\u001b[43m \u001b[49m\u001b[43misx\u001b[49m\u001b[38;5;241;43m.\u001b[39;49m\u001b[43m_internal\u001b[49m\u001b[38;5;241;43m.\u001b[39;49m\u001b[43mSizeTPtr\u001b[49m\u001b[43m(\u001b[49m\u001b[43m)\u001b[49m\u001b[43m)\u001b[49m\n",
      "File \u001b[1;32mC:\\Program Files\\Inscopix\\Data Processing\\isx\\_internal.py:118\u001b[0m, in \u001b[0;36m_standard_errcheck\u001b[1;34m(return_code, func, args)\u001b[0m\n\u001b[0;32m    116\u001b[0m \u001b[38;5;28;01mif\u001b[39;00m return_code \u001b[38;5;241m!=\u001b[39m \u001b[38;5;241m0\u001b[39m:\n\u001b[0;32m    117\u001b[0m     error_message \u001b[38;5;241m=\u001b[39m c_api\u001b[38;5;241m.\u001b[39misx_get_last_exception_string()\u001b[38;5;241m.\u001b[39mdecode()\n\u001b[1;32m--> 118\u001b[0m     \u001b[38;5;28;01mraise\u001b[39;00m \u001b[38;5;167;01mException\u001b[39;00m(\u001b[38;5;124m\"\u001b[39m\u001b[38;5;124mError calling C library function \u001b[39m\u001b[38;5;132;01m{}\u001b[39;00m\u001b[38;5;124m.\u001b[39m\u001b[38;5;130;01m\\n\u001b[39;00m\u001b[38;5;132;01m{}\u001b[39;00m\u001b[38;5;124m\"\u001b[39m\u001b[38;5;241m.\u001b[39mformat(func\u001b[38;5;241m.\u001b[39m\u001b[38;5;18m__name__\u001b[39m, error_message))\n\u001b[0;32m    119\u001b[0m \u001b[38;5;28;01mreturn\u001b[39;00m args\n",
      "\u001b[1;31mException\u001b[0m: Error calling C library function isx_classify_cell_status.\nUnable to insert data that temporally overlaps with other parts of the series. Data sets in a series must all be non-overlapping."
     ]
    }
   ],
   "source": [
    "(\n",
    "    pipe\n",
    "    .preprocess_videos()\n",
    "    .bandpass_filter_videos()\n",
    "    .motion_correction_videos()\n",
    "    .normalize_dff_videos()\n",
    "    .extract_neurons_pca_ica()\n",
    "    .detect_events_in_cells()\n",
    "    .auto_accept_reject_cells()\n",
    ")\n"
   ]
  },
  {
   "cell_type": "code",
   "execution_count": 29,
   "id": "f2822b499aef5fc5",
   "metadata": {
    "ExecuteTime": {
     "end_time": "2025-08-03T13:26:50.997534Z",
     "start_time": "2025-08-03T13:26:50.991386Z"
    }
   },
   "outputs": [
    {
     "data": {
      "text/plain": [
       "{'1': {'algorithm': 'Preprocess Videos',\n",
       "  'input': ['videos\\\\2021-10-21-11-57-27_video_trig_0-efocus_1000-PP.isxd'],\n",
       "  'output': ['output\\\\step 1 - Preprocess Videos\\\\2021-10-21-11-57-27_video_trig_0-efocus_1000-PP-PP.isxd']},\n",
       " '2': {'algorithm': 'Bandpass Filter Videos',\n",
       "  'input': ['output\\\\step 1 - Preprocess Videos\\\\2021-10-21-11-57-27_video_trig_0-efocus_1000-PP-PP.isxd'],\n",
       "  'output': ['output\\\\step 2 - Bandpass Filter Videos\\\\2021-10-21-11-57-27_video_trig_0-efocus_1000-PP-PP-BP.isxd']},\n",
       " '3': {'algorithm': 'Motion Correction Videos',\n",
       "  'input': ['output\\\\step 2 - Bandpass Filter Videos\\\\2021-10-21-11-57-27_video_trig_0-efocus_1000-PP-PP-BP.isxd'],\n",
       "  'output': ['output\\\\step 3 - Motion Correction Videos\\\\2021-10-21-11-57-27_video_trig_0-efocus_1000-PP-PP-BP-MC.isxd',\n",
       "   'output\\\\step 3 - Motion Correction Videos\\\\2021-10-21-11-57-27_video_trig_0-efocus_1000-PP-PP-BP-MC-translations.csv',\n",
       "   'output\\\\step 3 - Motion Correction Videos\\\\2021-10-21-11-57-27_video_trig_0-efocus_1000-PP-PP-BP-series-crop_rect.csv',\n",
       "   'output\\\\step 3 - Motion Correction Videos\\\\2021-10-21-11-57-27_video_trig_0-efocus_1000-PP-PP-BP-series-mean_image.isxd']},\n",
       " '4': {'algorithm': 'Normalize dF/F Videos',\n",
       "  'input': ['output\\\\step 3 - Motion Correction Videos\\\\2021-10-21-11-57-27_video_trig_0-efocus_1000-PP-PP-BP-MC.isxd',\n",
       "   'output\\\\step 3 - Motion Correction Videos\\\\2021-10-21-11-57-27_video_trig_0-efocus_1000-PP-PP-BP-MC-translations.csv',\n",
       "   'output\\\\step 3 - Motion Correction Videos\\\\2021-10-21-11-57-27_video_trig_0-efocus_1000-PP-PP-BP-series-crop_rect.csv',\n",
       "   'output\\\\step 3 - Motion Correction Videos\\\\2021-10-21-11-57-27_video_trig_0-efocus_1000-PP-PP-BP-series-mean_image.isxd'],\n",
       "  'output': ['output\\\\step 4 - Normalize dF/F Videos\\\\2021-10-21-11-57-27_video_trig_0-efocus_1000-PP-PP-BP-MC-DFF.isxd']},\n",
       " '5': {'algorithm': 'Extract Neurons PCA-ICA',\n",
       "  'input': ['output\\\\step 4 - Normalize dF/F Videos\\\\2021-10-21-11-57-27_video_trig_0-efocus_1000-PP-PP-BP-MC-DFF.isxd'],\n",
       "  'output': ['output\\\\step 5 - Extract Neurons PCA-ICA\\\\2021-10-21-11-57-27_video_trig_0-efocus_1000-PP-PP-BP-MC-DFF-PCA-ICA.isxd']},\n",
       " '6': {'algorithm': 'Detect Events in Cells',\n",
       "  'input': ['output\\\\step 5 - Extract Neurons PCA-ICA\\\\2021-10-21-11-57-27_video_trig_0-efocus_1000-PP-PP-BP-MC-DFF-PCA-ICA.isxd'],\n",
       "  'output': ['output\\\\step 6 - Detect Events in Cells\\\\2021-10-21-11-57-27_video_trig_0-efocus_1000-PP-PP-BP-MC-DFF-PCA-ICA-ED.isxd']},\n",
       " '7': {'algorithm': 'Auto Accept-Reject Cells',\n",
       "  'input': ['output\\\\step 6 - Detect Events in Cells\\\\2021-10-21-11-57-27_video_trig_0-efocus_1000-PP-PP-BP-MC-DFF-PCA-ICA-ED.isxd'],\n",
       "  'output': ['output\\\\step 7 - Auto Accept-Reject Cells\\\\2021-10-21-11-57-27_video_trig_0-efocus_1000-PP-PP-BP-MC-DFF-PCA-ICA.isxd']}}"
      ]
     },
     "execution_count": 29,
     "metadata": {},
     "output_type": "execute_result"
    }
   ],
   "source": [
    "pipe.trace()"
   ]
  },
  {
   "cell_type": "code",
   "execution_count": 30,
   "id": "e45265a82ffcf19f",
   "metadata": {
    "ExecuteTime": {
     "end_time": "2025-08-03T13:26:57.841844Z",
     "start_time": "2025-08-03T13:26:57.835703Z"
    }
   },
   "outputs": [
    {
     "data": {
      "text/plain": [
       "{'steps': [{'name': 'Preprocess Videos',\n",
       "   'input': {'videos': ['videos\\\\2021-10-21-11-57-27_video_trig_0-efocus_1000-PP.isxd']},\n",
       "   'output': {'videos': ['output\\\\step 1 - Preprocess Videos\\\\2021-10-21-11-57-27_video_trig_0-efocus_1000-PP-PP.isxd']},\n",
       "   'args': (),\n",
       "   'kwargs': {}},\n",
       "  {'name': 'Bandpass Filter Videos',\n",
       "   'input': {'videos': ['output\\\\step 1 - Preprocess Videos\\\\2021-10-21-11-57-27_video_trig_0-efocus_1000-PP-PP.isxd']},\n",
       "   'output': {'videos': ['output\\\\step 2 - Bandpass Filter Videos\\\\2021-10-21-11-57-27_video_trig_0-efocus_1000-PP-PP-BP.isxd']},\n",
       "   'args': (),\n",
       "   'kwargs': {}},\n",
       "  {'name': 'Motion Correction Videos',\n",
       "   'input': {'videos': ['output\\\\step 2 - Bandpass Filter Videos\\\\2021-10-21-11-57-27_video_trig_0-efocus_1000-PP-PP-BP.isxd']},\n",
       "   'output': {'videos': ['output\\\\step 3 - Motion Correction Videos\\\\2021-10-21-11-57-27_video_trig_0-efocus_1000-PP-PP-BP-MC.isxd'],\n",
       "    'translations': ['output\\\\step 3 - Motion Correction Videos\\\\2021-10-21-11-57-27_video_trig_0-efocus_1000-PP-PP-BP-MC-translations.csv'],\n",
       "    'crop_rect': ['output\\\\step 3 - Motion Correction Videos\\\\2021-10-21-11-57-27_video_trig_0-efocus_1000-PP-PP-BP-series-crop_rect.csv'],\n",
       "    'mean_projection': ['output\\\\step 3 - Motion Correction Videos\\\\2021-10-21-11-57-27_video_trig_0-efocus_1000-PP-PP-BP-series-mean_image.isxd']},\n",
       "   'args': (),\n",
       "   'kwargs': {}},\n",
       "  {'name': 'Normalize dF/F Videos',\n",
       "   'input': {'videos': ['output\\\\step 3 - Motion Correction Videos\\\\2021-10-21-11-57-27_video_trig_0-efocus_1000-PP-PP-BP-MC.isxd'],\n",
       "    'translations': ['output\\\\step 3 - Motion Correction Videos\\\\2021-10-21-11-57-27_video_trig_0-efocus_1000-PP-PP-BP-MC-translations.csv'],\n",
       "    'crop_rect': ['output\\\\step 3 - Motion Correction Videos\\\\2021-10-21-11-57-27_video_trig_0-efocus_1000-PP-PP-BP-series-crop_rect.csv'],\n",
       "    'mean_projection': ['output\\\\step 3 - Motion Correction Videos\\\\2021-10-21-11-57-27_video_trig_0-efocus_1000-PP-PP-BP-series-mean_image.isxd']},\n",
       "   'output': {'videos': ['output\\\\step 4 - Normalize dF/F Videos\\\\2021-10-21-11-57-27_video_trig_0-efocus_1000-PP-PP-BP-MC-DFF.isxd']},\n",
       "   'args': (),\n",
       "   'kwargs': {}},\n",
       "  {'name': 'Extract Neurons PCA-ICA',\n",
       "   'input': {'videos': ['output\\\\step 4 - Normalize dF/F Videos\\\\2021-10-21-11-57-27_video_trig_0-efocus_1000-PP-PP-BP-MC-DFF.isxd']},\n",
       "   'output': {'cellsets': ['output\\\\step 5 - Extract Neurons PCA-ICA\\\\2021-10-21-11-57-27_video_trig_0-efocus_1000-PP-PP-BP-MC-DFF-PCA-ICA.isxd']},\n",
       "   'args': (),\n",
       "   'kwargs': {}},\n",
       "  {'name': 'Detect Events in Cells',\n",
       "   'input': {'cellsets': ['output\\\\step 5 - Extract Neurons PCA-ICA\\\\2021-10-21-11-57-27_video_trig_0-efocus_1000-PP-PP-BP-MC-DFF-PCA-ICA.isxd']},\n",
       "   'output': {'events': ['output\\\\step 6 - Detect Events in Cells\\\\2021-10-21-11-57-27_video_trig_0-efocus_1000-PP-PP-BP-MC-DFF-PCA-ICA-ED.isxd']},\n",
       "   'args': (),\n",
       "   'kwargs': {}},\n",
       "  {'name': 'Auto Accept-Reject Cells',\n",
       "   'input': {'events': ['output\\\\step 6 - Detect Events in Cells\\\\2021-10-21-11-57-27_video_trig_0-efocus_1000-PP-PP-BP-MC-DFF-PCA-ICA-ED.isxd']},\n",
       "   'output': {'cellsets': ['output\\\\step 7 - Auto Accept-Reject Cells\\\\2021-10-21-11-57-27_video_trig_0-efocus_1000-PP-PP-BP-MC-DFF-PCA-ICA.isxd']},\n",
       "   'args': (),\n",
       "   'kwargs': {}}],\n",
       " 'inputs': {'videos': ['videos\\\\2021-10-21-11-57-27_video_trig_0-efocus_1000-PP.isxd']},\n",
       " 'output': {'cellsets': ['output\\\\step 7 - Auto Accept-Reject Cells\\\\2021-10-21-11-57-27_video_trig_0-efocus_1000-PP-PP-BP-MC-DFF-PCA-ICA.isxd']},\n",
       " 'defaults': {}}"
      ]
     },
     "execution_count": 30,
     "metadata": {},
     "output_type": "execute_result"
    }
   ],
   "source": [
    "pipe.info()"
   ]
  }
 ],
 "metadata": {
  "kernelspec": {
   "display_name": "isxenv",
   "language": "python",
   "name": "python3"
  },
  "language_info": {
   "codemirror_mode": {
    "name": "ipython",
    "version": 3
   },
   "file_extension": ".py",
   "mimetype": "text/x-python",
   "name": "python",
   "nbconvert_exporter": "python",
   "pygments_lexer": "ipython3",
   "version": "3.10.18"
  }
 },
 "nbformat": 4,
 "nbformat_minor": 5
}
