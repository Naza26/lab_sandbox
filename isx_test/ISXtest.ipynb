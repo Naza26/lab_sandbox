{
 "cells": [
  {
   "cell_type": "code",
   "execution_count": 1,
   "id": "c56cfdac",
   "metadata": {},
   "outputs": [],
   "source": [
    "import sys, os\n",
    "sys.path.insert(0, \"/home/agus/Documentos/lab_sandbox/version0\")"
   ]
  },
  {
   "cell_type": "code",
   "execution_count": 5,
   "id": "5da9ced8",
   "metadata": {
    "ExecuteTime": {
     "end_time": "2025-08-03T13:19:31.550103Z",
     "start_time": "2025-08-03T13:19:31.534591Z"
    }
   },
   "outputs": [],
   "source": [
    "import sys\n",
    "import os\n",
    "\n",
    "\n",
    "base_path = os.path.abspath(os.path.join(os.getcwd(), '..'))\n",
    "if base_path not in sys.path:\n",
    "    sys.path.insert(0, base_path)\n",
    "\n",
    "import importlib\n",
    "import version0.isx_pipeline.isx_pipeline\n",
    "from logger.file_logger import FileLogger\n",
    "\n",
    "importlib.reload(version0.isx_pipeline.isx_pipeline)\n",
    "\n",
    "\n",
    "from version0.isx_pipeline.isx_pipeline import ISXPipeline"
   ]
  },
  {
   "cell_type": "code",
   "execution_count": 6,
   "id": "89cdb9ecbf2c15fb",
   "metadata": {
    "ExecuteTime": {
     "end_time": "2025-08-03T13:19:38.684542Z",
     "start_time": "2025-08-03T13:19:38.679078Z"
    }
   },
   "outputs": [],
   "source": [
    "logger = FileLogger.new_for(\"test.json\", \"logs\")\n",
    "pipe = ISXPipeline.new(\"videos\", logger)"
   ]
  },
  {
   "cell_type": "code",
   "execution_count": 11,
   "id": "2b163d7ad4630de7",
   "metadata": {
    "ExecuteTime": {
     "end_time": "2025-08-03T13:20:13.377951Z",
     "start_time": "2025-08-03T13:20:13.374004Z"
    }
   },
   "outputs": [
    {
     "data": {
      "text/plain": [
       "{'branch_name': 'branch 1',\n",
       " 'steps': {'1': {'algorithm': 'Preprocess Videos',\n",
       "   'input': ['videos/pruebafernando.isxd'],\n",
       "   'output': ['logs/branch 1 - step 1 - Preprocess Videos/pruebafernando-PP.isxd']},\n",
       "  '2': {'algorithm': 'Bandpass Filter Videos',\n",
       "   'input': ['logs/branch 1 - step 1 - Preprocess Videos/pruebafernando-PP.isxd'],\n",
       "   'output': ['logs/branch 1 - step 2 - Bandpass Filter Videos/pruebafernando-PP-BP.isxd']},\n",
       "  '3': {'algorithm': 'Normalize dF/F Videos',\n",
       "   'input': ['logs/branch 1 - step 2 - Bandpass Filter Videos/pruebafernando-PP-BP.isxd'],\n",
       "   'output': ['logs/branch 1 - step 3 - Normalize dF/F Videos/pruebafernando-PP-BP-DFF.isxd']}}}"
      ]
     },
     "execution_count": 11,
     "metadata": {},
     "output_type": "execute_result"
    }
   ],
   "source": [
    "pipe.trace()"
   ]
  },
  {
   "cell_type": "code",
   "execution_count": 7,
   "id": "2cf6386596d1d5c4",
   "metadata": {
    "ExecuteTime": {
     "end_time": "2025-08-03T13:26:44.768905Z",
     "start_time": "2025-08-03T13:26:42.500458Z"
    }
   },
   "outputs": [
    {
     "data": {
      "text/plain": [
       "<version0.isx_pipeline.isx_pipeline.ISXPipeline at 0x77ad7004d2d0>"
      ]
     },
     "execution_count": 7,
     "metadata": {},
     "output_type": "execute_result"
    }
   ],
   "source": [
    "pipe.preprocess_videos().bandpass_filter_videos()\n"
   ]
  },
  {
   "cell_type": "code",
   "execution_count": 8,
   "id": "f2822b499aef5fc5",
   "metadata": {
    "ExecuteTime": {
     "end_time": "2025-08-03T13:26:50.997534Z",
     "start_time": "2025-08-03T13:26:50.991386Z"
    }
   },
   "outputs": [],
   "source": [
    "otro_pipe = pipe.branch(\"otra\")"
   ]
  },
  {
   "cell_type": "code",
   "execution_count": 9,
   "id": "e45265a82ffcf19f",
   "metadata": {
    "ExecuteTime": {
     "end_time": "2025-08-03T13:26:57.841844Z",
     "start_time": "2025-08-03T13:26:57.835703Z"
    }
   },
   "outputs": [
    {
     "data": {
      "text/plain": [
       "<version0.isx_pipeline.isx_pipeline.ISXPipeline at 0x77ad7004d2d0>"
      ]
     },
     "execution_count": 9,
     "metadata": {},
     "output_type": "execute_result"
    }
   ],
   "source": [
    "otro_pipe.normalize_dff_videos()\n",
    "pipe.normalize_dff_videos()"
   ]
  }
 ],
 "metadata": {
  "kernelspec": {
   "display_name": "isxenv",
   "language": "python",
   "name": "python3"
  },
  "language_info": {
   "codemirror_mode": {
    "name": "ipython",
    "version": 3
   },
   "file_extension": ".py",
   "mimetype": "text/x-python",
   "name": "python",
   "nbconvert_exporter": "python",
   "pygments_lexer": "ipython3",
   "version": "3.10.18"
  }
 },
 "nbformat": 4,
 "nbformat_minor": 5
}
