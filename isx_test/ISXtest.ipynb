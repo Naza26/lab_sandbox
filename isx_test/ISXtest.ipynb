{
 "cells": [
  {
   "cell_type": "code",
   "execution_count": null,
   "id": "5da9ced8",
   "metadata": {},
   "outputs": [],
   "source": [
    "import sys\n",
    "import os\n",
    "\n",
    "base_path = os.path.abspath(os.path.join(os.getcwd(), '..'))\n",
    "if base_path not in sys.path:\n",
    "    sys.path.insert(0, base_path)\n",
    "\n",
    "import importlib\n",
    "import version0.isx_pipeline.isx_pipeline\n",
    "\n",
    "importlib.reload(version0.isx_pipeline.isx_pipeline)\n",
    "\n",
    "from version0.isx_pipeline.isx_pipeline import ISXPipeline"
   ]
  },
  {
   "cell_type": "code",
   "execution_count": 10,
   "id": "initial_id",
   "metadata": {
    "ExecuteTime": {
     "end_time": "2025-07-27T21:08:30.496174Z",
     "start_time": "2025-07-27T21:08:30.015033Z"
    },
    "collapsed": true
   },
   "outputs": [],
   "source": [
    "from version0.isx_pipeline import ISXPipeline\n",
    "import isx\n"
   ]
  },
  {
   "cell_type": "code",
   "execution_count": 11,
   "id": "89cdb9ecbf2c15fb",
   "metadata": {
    "ExecuteTime": {
     "end_time": "2025-07-27T21:08:30.643305Z",
     "start_time": "2025-07-27T21:08:30.639814Z"
    }
   },
   "outputs": [],
   "source": [
    "pipe = ISXPipeline.new(isx, \"videos\", \"output\")"
   ]
  },
  {
   "cell_type": "code",
   "execution_count": 7,
   "id": "9baeb059b7221b41",
   "metadata": {
    "ExecuteTime": {
     "end_time": "2025-07-27T21:08:30.702826Z",
     "start_time": "2025-07-27T21:08:30.695530Z"
    }
   },
   "outputs": [
    {
     "data": {
      "text/plain": [
       "{'steps': [],\n",
       " 'inputs': ['videos/prueba_Fernando.isxd'],\n",
       " 'output': ['videos/prueba_Fernando.isxd']}"
      ]
     },
     "execution_count": 7,
     "metadata": {},
     "output_type": "execute_result"
    }
   ],
   "source": [
    "pipe.info()"
   ]
  },
  {
   "cell_type": "code",
   "execution_count": 8,
   "id": "2cf6386596d1d5c4",
   "metadata": {
    "ExecuteTime": {
     "end_time": "2025-07-27T21:08:32.278626Z",
     "start_time": "2025-07-27T21:08:30.745888Z"
    }
   },
   "outputs": [
    {
     "name": "stdout",
     "output_type": "stream",
     "text": [
      "isxJsonUtils.cpp:637: Exception - Error while seeking to length of JSON header at end.\n"
     ]
    },
    {
     "ename": "Exception",
     "evalue": "Error calling C library function isx_preprocess_movie.\nError while seeking to length of JSON header at end.",
     "output_type": "error",
     "traceback": [
      "\u001b[0;31m---------------------------------------------------------------------------\u001b[0m",
      "\u001b[0;31mException\u001b[0m                                 Traceback (most recent call last)",
      "Cell \u001b[0;32mIn[8], line 1\u001b[0m\n\u001b[0;32m----> 1\u001b[0m \u001b[43mpipe\u001b[49m\u001b[38;5;241;43m.\u001b[39;49m\u001b[43mpreprocess_videos\u001b[49m\u001b[43m(\u001b[49m\u001b[43m)\u001b[49m\n",
      "File \u001b[0;32m~/Documentos/lab_sandbox/version0/isx_pipeline/isx_pipeline.py:32\u001b[0m, in \u001b[0;36mISXPipeline.preprocess_videos\u001b[0;34m(self)\u001b[0m\n\u001b[1;32m     29\u001b[0m input_files \u001b[38;5;241m=\u001b[39m \u001b[38;5;28mself\u001b[39m\u001b[38;5;241m.\u001b[39mnext_step_input()\n\u001b[1;32m     31\u001b[0m pp_files \u001b[38;5;241m=\u001b[39m \u001b[38;5;28mself\u001b[39m\u001b[38;5;241m.\u001b[39m_isx\u001b[38;5;241m.\u001b[39mmake_output_file_paths(input_files, \u001b[38;5;28mself\u001b[39m\u001b[38;5;241m.\u001b[39m_output_folder, \u001b[38;5;124m'\u001b[39m\u001b[38;5;124mPP\u001b[39m\u001b[38;5;124m'\u001b[39m)\n\u001b[0;32m---> 32\u001b[0m \u001b[38;5;28;01mreturn\u001b[39;00m \u001b[38;5;28;43mself\u001b[39;49m\u001b[38;5;241;43m.\u001b[39;49m\u001b[43mstep\u001b[49m\u001b[43m(\u001b[49m\u001b[38;5;124;43m'\u001b[39;49m\u001b[38;5;124;43mPreprocess Videos\u001b[39;49m\u001b[38;5;124;43m'\u001b[39;49m\u001b[43m,\u001b[49m\u001b[43m \u001b[49m\u001b[38;5;28;43;01mlambda\u001b[39;49;00m\u001b[43m \u001b[49m\u001b[43mfiles\u001b[49m\u001b[43m,\u001b[49m\u001b[43m \u001b[49m\u001b[43mpp\u001b[49m\u001b[43m:\u001b[49m\u001b[43m \u001b[49m\u001b[38;5;28;43mself\u001b[39;49m\u001b[38;5;241;43m.\u001b[39;49m\u001b[43mpreprocess_result\u001b[49m\u001b[43m(\u001b[49m\u001b[43mfiles\u001b[49m\u001b[43m,\u001b[49m\u001b[43m \u001b[49m\u001b[43mpp\u001b[49m\u001b[43m)\u001b[49m\u001b[43m,\u001b[49m\u001b[43m \u001b[49m\u001b[43mpp_files\u001b[49m\u001b[43m)\u001b[49m\n",
      "File \u001b[0;32m~/Documentos/lab_sandbox/version0/ci_pipe/pipeline.py:12\u001b[0m, in \u001b[0;36mCIPipe.step\u001b[0;34m(self, step_name, step_function, *args)\u001b[0m\n\u001b[1;32m     11\u001b[0m \u001b[38;5;28;01mdef\u001b[39;00m\u001b[38;5;250m \u001b[39m\u001b[38;5;21mstep\u001b[39m(\u001b[38;5;28mself\u001b[39m, step_name, step_function, \u001b[38;5;241m*\u001b[39margs):\n\u001b[0;32m---> 12\u001b[0m     new_step \u001b[38;5;241m=\u001b[39m \u001b[43mStep\u001b[49m\u001b[43m(\u001b[49m\u001b[43mstep_name\u001b[49m\u001b[43m,\u001b[49m\u001b[43m \u001b[49m\u001b[38;5;28;43mself\u001b[39;49m\u001b[38;5;241;43m.\u001b[39;49m\u001b[43mnext_step_input\u001b[49m\u001b[43m(\u001b[49m\u001b[43m)\u001b[49m\u001b[43m,\u001b[49m\u001b[43m \u001b[49m\u001b[43mstep_function\u001b[49m\u001b[43m,\u001b[49m\u001b[43m \u001b[49m\u001b[43margs\u001b[49m\u001b[43m)\u001b[49m\n\u001b[1;32m     13\u001b[0m     \u001b[38;5;28mself\u001b[39m\u001b[38;5;241m.\u001b[39m_steps\u001b[38;5;241m.\u001b[39mappend(new_step)\n\u001b[1;32m     14\u001b[0m     \u001b[38;5;28;01mreturn\u001b[39;00m \u001b[38;5;28mself\u001b[39m\n",
      "File \u001b[0;32m~/Documentos/lab_sandbox/version0/ci_pipe/step.py:6\u001b[0m, in \u001b[0;36mStep.__init__\u001b[0;34m(self, step_name, step_input, step_function, args)\u001b[0m\n\u001b[1;32m      4\u001b[0m \u001b[38;5;28mself\u001b[39m\u001b[38;5;241m.\u001b[39m_step_function \u001b[38;5;241m=\u001b[39m step_function\n\u001b[1;32m      5\u001b[0m \u001b[38;5;28mself\u001b[39m\u001b[38;5;241m.\u001b[39m_step_input \u001b[38;5;241m=\u001b[39m step_input\n\u001b[0;32m----> 6\u001b[0m \u001b[38;5;28mself\u001b[39m\u001b[38;5;241m.\u001b[39m_step_outputs \u001b[38;5;241m=\u001b[39m \u001b[38;5;28;43mself\u001b[39;49m\u001b[38;5;241;43m.\u001b[39;49m\u001b[43m_step_function\u001b[49m\u001b[43m(\u001b[49m\u001b[43mstep_input\u001b[49m\u001b[43m,\u001b[49m\u001b[43m \u001b[49m\u001b[38;5;241;43m*\u001b[39;49m\u001b[43margs\u001b[49m\u001b[43m)\u001b[49m\n",
      "File \u001b[0;32m~/Documentos/lab_sandbox/version0/isx_pipeline/isx_pipeline.py:32\u001b[0m, in \u001b[0;36mISXPipeline.preprocess_videos.<locals>.<lambda>\u001b[0;34m(files, pp)\u001b[0m\n\u001b[1;32m     29\u001b[0m input_files \u001b[38;5;241m=\u001b[39m \u001b[38;5;28mself\u001b[39m\u001b[38;5;241m.\u001b[39mnext_step_input()\n\u001b[1;32m     31\u001b[0m pp_files \u001b[38;5;241m=\u001b[39m \u001b[38;5;28mself\u001b[39m\u001b[38;5;241m.\u001b[39m_isx\u001b[38;5;241m.\u001b[39mmake_output_file_paths(input_files, \u001b[38;5;28mself\u001b[39m\u001b[38;5;241m.\u001b[39m_output_folder, \u001b[38;5;124m'\u001b[39m\u001b[38;5;124mPP\u001b[39m\u001b[38;5;124m'\u001b[39m)\n\u001b[0;32m---> 32\u001b[0m \u001b[38;5;28;01mreturn\u001b[39;00m \u001b[38;5;28mself\u001b[39m\u001b[38;5;241m.\u001b[39mstep(\u001b[38;5;124m'\u001b[39m\u001b[38;5;124mPreprocess Videos\u001b[39m\u001b[38;5;124m'\u001b[39m, \u001b[38;5;28;01mlambda\u001b[39;00m files, pp: \u001b[38;5;28;43mself\u001b[39;49m\u001b[38;5;241;43m.\u001b[39;49m\u001b[43mpreprocess_result\u001b[49m\u001b[43m(\u001b[49m\u001b[43mfiles\u001b[49m\u001b[43m,\u001b[49m\u001b[43m \u001b[49m\u001b[43mpp\u001b[49m\u001b[43m)\u001b[49m, pp_files)\n",
      "File \u001b[0;32m~/Documentos/lab_sandbox/version0/isx_pipeline/isx_pipeline.py:35\u001b[0m, in \u001b[0;36mISXPipeline.preprocess_result\u001b[0;34m(self, files, pp)\u001b[0m\n\u001b[1;32m     34\u001b[0m \u001b[38;5;28;01mdef\u001b[39;00m\u001b[38;5;250m \u001b[39m\u001b[38;5;21mpreprocess_result\u001b[39m(\u001b[38;5;28mself\u001b[39m,files, pp):\n\u001b[0;32m---> 35\u001b[0m     \u001b[38;5;28;43mself\u001b[39;49m\u001b[38;5;241;43m.\u001b[39;49m\u001b[43m_isx\u001b[49m\u001b[38;5;241;43m.\u001b[39;49m\u001b[43mpreprocess\u001b[49m\u001b[43m(\u001b[49m\u001b[43mfiles\u001b[49m\u001b[43m,\u001b[49m\u001b[43m \u001b[49m\u001b[43mpp\u001b[49m\u001b[43m)\u001b[49m\n\u001b[1;32m     36\u001b[0m     \u001b[38;5;28;01mreturn\u001b[39;00m { \u001b[38;5;124m'\u001b[39m\u001b[38;5;124mvideos\u001b[39m\u001b[38;5;124m'\u001b[39m: pp }\n",
      "File \u001b[0;32m~/Documentos/tpp/Inscopix Data Processing 1.9.6/Inscopix Data Processing.linux/Contents/API/Python/isx/algo.py:70\u001b[0m, in \u001b[0;36mpreprocess\u001b[0;34m(input_movie_files, output_movie_files, temporal_downsample_factor, spatial_downsample_factor, crop_rect, crop_rect_format, fix_defective_pixels, trim_early_frames)\u001b[0m\n\u001b[1;32m     67\u001b[0m     crop_rect \u001b[38;5;241m=\u001b[39m (top_left_y, top_left_x, bottom_right_y, bottom_right_x)\n\u001b[1;32m     69\u001b[0m num_files, in_arr, out_arr \u001b[38;5;241m=\u001b[39m isx\u001b[38;5;241m.\u001b[39m_internal\u001b[38;5;241m.\u001b[39mcheck_input_and_output_files(input_movie_files, output_movie_files)\n\u001b[0;32m---> 70\u001b[0m \u001b[43misx\u001b[49m\u001b[38;5;241;43m.\u001b[39;49m\u001b[43m_internal\u001b[49m\u001b[38;5;241;43m.\u001b[39;49m\u001b[43mc_api\u001b[49m\u001b[38;5;241;43m.\u001b[39;49m\u001b[43misx_preprocess_movie\u001b[49m\u001b[43m(\u001b[49m\n\u001b[1;32m     71\u001b[0m \u001b[43m        \u001b[49m\u001b[43mnum_files\u001b[49m\u001b[43m,\u001b[49m\u001b[43m \u001b[49m\u001b[43min_arr\u001b[49m\u001b[43m,\u001b[49m\u001b[43m \u001b[49m\u001b[43mout_arr\u001b[49m\u001b[43m,\u001b[49m\u001b[43m \u001b[49m\u001b[43mtemporal_downsample_factor\u001b[49m\u001b[43m,\u001b[49m\u001b[43m \u001b[49m\u001b[43mspatial_downsample_factor\u001b[49m\u001b[43m,\u001b[49m\n\u001b[1;32m     72\u001b[0m \u001b[43m        \u001b[49m\u001b[43mcrop_rect\u001b[49m\u001b[43m[\u001b[49m\u001b[38;5;241;43m0\u001b[39;49m\u001b[43m]\u001b[49m\u001b[43m,\u001b[49m\u001b[43m \u001b[49m\u001b[43mcrop_rect\u001b[49m\u001b[43m[\u001b[49m\u001b[38;5;241;43m1\u001b[39;49m\u001b[43m]\u001b[49m\u001b[43m,\u001b[49m\u001b[43m \u001b[49m\u001b[43mcrop_rect\u001b[49m\u001b[43m[\u001b[49m\u001b[38;5;241;43m2\u001b[39;49m\u001b[43m]\u001b[49m\u001b[43m,\u001b[49m\u001b[43m \u001b[49m\u001b[43mcrop_rect\u001b[49m\u001b[43m[\u001b[49m\u001b[38;5;241;43m3\u001b[39;49m\u001b[43m]\u001b[49m\u001b[43m,\u001b[49m\u001b[43m \u001b[49m\u001b[43mfix_defective_pixels\u001b[49m\u001b[43m,\u001b[49m\u001b[43m \u001b[49m\u001b[43mtrim_early_frames\u001b[49m\u001b[43m)\u001b[49m\n",
      "File \u001b[0;32m~/Documentos/tpp/Inscopix Data Processing 1.9.6/Inscopix Data Processing.linux/Contents/API/Python/isx/_internal.py:118\u001b[0m, in \u001b[0;36m_standard_errcheck\u001b[0;34m(return_code, func, args)\u001b[0m\n\u001b[1;32m    116\u001b[0m \u001b[38;5;28;01mif\u001b[39;00m return_code \u001b[38;5;241m!=\u001b[39m \u001b[38;5;241m0\u001b[39m:\n\u001b[1;32m    117\u001b[0m     error_message \u001b[38;5;241m=\u001b[39m c_api\u001b[38;5;241m.\u001b[39misx_get_last_exception_string()\u001b[38;5;241m.\u001b[39mdecode()\n\u001b[0;32m--> 118\u001b[0m     \u001b[38;5;28;01mraise\u001b[39;00m \u001b[38;5;167;01mException\u001b[39;00m(\u001b[38;5;124m\"\u001b[39m\u001b[38;5;124mError calling C library function \u001b[39m\u001b[38;5;132;01m{}\u001b[39;00m\u001b[38;5;124m.\u001b[39m\u001b[38;5;130;01m\\n\u001b[39;00m\u001b[38;5;132;01m{}\u001b[39;00m\u001b[38;5;124m\"\u001b[39m\u001b[38;5;241m.\u001b[39mformat(func\u001b[38;5;241m.\u001b[39m\u001b[38;5;18m__name__\u001b[39m, error_message))\n\u001b[1;32m    119\u001b[0m \u001b[38;5;28;01mreturn\u001b[39;00m args\n",
      "\u001b[0;31mException\u001b[0m: Error calling C library function isx_preprocess_movie.\nError while seeking to length of JSON header at end."
     ]
    }
   ],
   "source": [
    "pipe.preprocess_videos()"
   ]
  },
  {
   "cell_type": "code",
   "execution_count": 5,
   "id": "e45265a82ffcf19f",
   "metadata": {
    "ExecuteTime": {
     "end_time": "2025-07-27T21:08:32.298998Z",
     "start_time": "2025-07-27T21:08:32.292295Z"
    }
   },
   "outputs": [
    {
     "data": {
      "text/plain": [
       "{'steps': [{'name': 'Preprocess Videos',\n",
       "   'input': ['videos/2021-10-21-11-57-27_video_trig_0-efocus_1000-PP.isxd'],\n",
       "   'output': {'videos': ['output/2021-10-21-11-57-27_video_trig_0-efocus_1000-PP-PP.isxd']}}],\n",
       " 'inputs': ['videos/2021-10-21-11-57-27_video_trig_0-efocus_1000-PP.isxd'],\n",
       " 'output': {'videos': ['output/2021-10-21-11-57-27_video_trig_0-efocus_1000-PP-PP.isxd']}}"
      ]
     },
     "execution_count": 5,
     "metadata": {},
     "output_type": "execute_result"
    }
   ],
   "source": [
    "pipe.info()"
   ]
  }
 ],
 "metadata": {
  "kernelspec": {
   "display_name": "isxenv",
   "language": "python",
   "name": "python3"
  },
  "language_info": {
   "codemirror_mode": {
    "name": "ipython",
    "version": 3
   },
   "file_extension": ".py",
   "mimetype": "text/x-python",
   "name": "python",
   "nbconvert_exporter": "python",
   "pygments_lexer": "ipython3",
   "version": "3.10.18"
  }
 },
 "nbformat": 4,
 "nbformat_minor": 5
}
