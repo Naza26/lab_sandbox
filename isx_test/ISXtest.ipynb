{
 "cells": [
  {
   "cell_type": "code",
   "execution_count": null,
   "id": "f968bf7b",
   "metadata": {},
   "outputs": [],
   "source": [
    "# Instalar para info, trace y show\n",
    "pip install rich\n",
    "pip install graphviz\n",
    "pip install anytree"
   ]
  },
  {
   "cell_type": "code",
   "execution_count": 1,
   "id": "c56cfdac",
   "metadata": {},
   "outputs": [],
   "source": [
    "import sys, os\n",
    "sys.path.insert(0, \"/home/agus/Documentos/lab_sandbox/version0\")"
   ]
  },
  {
   "cell_type": "code",
   "execution_count": 1,
   "id": "5da9ced8",
   "metadata": {
    "ExecuteTime": {
     "end_time": "2025-08-03T13:19:31.550103Z",
     "start_time": "2025-08-03T13:19:31.534591Z"
    }
   },
   "outputs": [],
   "source": [
    "import sys\n",
    "import os\n",
    "\n",
    "\n",
    "base_path = os.path.abspath(os.path.join(os.getcwd(), '..'))\n",
    "if base_path not in sys.path:\n",
    "    sys.path.insert(0, base_path)\n",
    "\n",
    "import importlib\n",
    "import version0.isx_pipeline.isx_pipeline\n",
    "from logger.file_logger import FileLogger\n",
    "\n",
    "importlib.reload(version0.isx_pipeline.isx_pipeline)\n",
    "\n",
    "\n",
    "from version0.isx_pipeline.isx_pipeline import ISXPipeline"
   ]
  },
  {
   "cell_type": "code",
   "execution_count": 7,
   "id": "89cdb9ecbf2c15fb",
   "metadata": {
    "ExecuteTime": {
     "end_time": "2025-08-03T13:19:38.684542Z",
     "start_time": "2025-08-03T13:19:38.679078Z"
    }
   },
   "outputs": [],
   "source": [
    "logger = FileLogger.new_for(\"test.json\", \"output\")\n",
    "pipe = ISXPipeline.new(\"videos\", logger)"
   ]
  },
  {
   "cell_type": "code",
   "execution_count": 8,
   "id": "2cf6386596d1d5c4",
   "metadata": {
    "ExecuteTime": {
     "end_time": "2025-08-03T13:26:44.768905Z",
     "start_time": "2025-08-03T13:26:42.500458Z"
    }
   },
   "outputs": [
    {
     "data": {
      "text/plain": [
       "<version0.isx_pipeline.isx_pipeline.ISXPipeline at 0x759b983f0fa0>"
      ]
     },
     "execution_count": 8,
     "metadata": {},
     "output_type": "execute_result"
    }
   ],
   "source": [
    "pipe.preprocess_videos().bandpass_filter_videos(high_cutoff=0.7)\n"
   ]
  },
  {
   "cell_type": "code",
   "execution_count": 9,
   "id": "0bdcbda1",
   "metadata": {},
   "outputs": [
    {
     "data": {
      "text/plain": [
       "<version0.isx_pipeline.isx_pipeline.ISXPipeline at 0x759b983f0fa0>"
      ]
     },
     "execution_count": 9,
     "metadata": {},
     "output_type": "execute_result"
    }
   ],
   "source": [
    "otro_pipe = pipe.branch(\"otra\")\n",
    "otro_pipe.normalize_dff_videos()\n",
    "pipe.normalize_dff_videos()\n"
   ]
  },
  {
   "cell_type": "code",
   "execution_count": 14,
   "id": "a9375394",
   "metadata": {},
   "outputs": [
    {
     "name": "stdout",
     "output_type": "stream",
     "text": [
      "branch 1: step 1 - Preprocess Videos\n",
      "└── branch 1: step 2 - Bandpass Filter Videos\n",
      "    ├── branch 1: step 3 - Normalize dF/F Videos\n",
      "    │   └── branch 1: step 4 - Motion Correction Videos\n",
      "    │       └── branch 1: step 5 - Extract Neurons PCA-ICA\n",
      "    │           └── branch 1: step 6 - Detect Events in Cells\n",
      "    │               └── branch 1: step 7 - Auto Accept-Reject Cells\n",
      "    └── otra: step 3 - Normalize dF/F Videos\n"
     ]
    },
    {
     "data": {
      "text/plain": [
       "Node('/branch 1: step 1 - Preprocess Videos')"
      ]
     },
     "execution_count": 14,
     "metadata": {},
     "output_type": "execute_result"
    }
   ],
   "source": [
    "logger.show()"
   ]
  },
  {
   "cell_type": "code",
   "execution_count": 11,
   "id": "58f744b0",
   "metadata": {},
   "outputs": [
    {
     "data": {
      "text/plain": [
       "<version0.isx_pipeline.isx_pipeline.ISXPipeline at 0x759b983f0fa0>"
      ]
     },
     "execution_count": 11,
     "metadata": {},
     "output_type": "execute_result"
    }
   ],
   "source": [
    "pipe.preprocess_videos()          # Preprocess Videos\n",
    "pipe.bandpass_filter_videos()     # Bandpass Filter Videos\n",
    "pipe.motion_correction_videos()   # Motion Correction Videos\n",
    "pipe.normalize_dff_videos()       # Normalize dF/F Videos\n",
    "pipe.extract_neurons_pca_ica()    # Extract Neurons PCA-ICA\n",
    "pipe.detect_events_in_cells()     # Detect Events in Cells\n",
    "pipe.auto_accept_reject_cells()   # Auto Accept-Reject Cells\n"
   ]
  },
  {
   "cell_type": "code",
   "execution_count": 96,
   "id": "98d0e6d6",
   "metadata": {},
   "outputs": [
    {
     "data": {
      "text/html": [
       "<pre style=\"white-space:pre;overflow-x:auto;line-height:normal;font-family:Menlo,'DejaVu Sans Mono',consolas,'Courier New',monospace\">\n",
       "<span style=\"font-weight: bold; text-decoration: underline\">Pipeline Trace of branch: branch </span><span style=\"color: #008080; text-decoration-color: #008080; font-weight: bold; text-decoration: underline\">1</span>\n",
       "\n",
       "</pre>\n"
      ],
      "text/plain": [
       "\n",
       "\u001b[1;4mPipeline Trace of branch: branch \u001b[0m\u001b[1;4;36m1\u001b[0m\n",
       "\n"
      ]
     },
     "metadata": {},
     "output_type": "display_data"
    },
    {
     "data": {
      "text/html": [
       "<pre style=\"white-space:pre;overflow-x:auto;line-height:normal;font-family:Menlo,'DejaVu Sans Mono',consolas,'Courier New',monospace\">                                              ╭─────────────────────╮                                              \n",
       "                                              │                     │                                              \n",
       "                                              │       Step 1        │                                              \n",
       "                                              │  Preprocess Videos  │                                              \n",
       "                                              │                     │                                              \n",
       "                                              ╰─────────────────────╯                                              \n",
       "                                                         ⬇                                                         \n",
       "                                           ╭──────────────────────────╮                                            \n",
       "                                           │                          │                                            \n",
       "                                           │          Step 2          │                                            \n",
       "                                           │  Bandpass Filter Videos  │                                            \n",
       "                                           │                          │                                            \n",
       "                                           ╰──────────────────────────╯                                            \n",
       "</pre>\n"
      ],
      "text/plain": [
       "                                              ╭─────────────────────╮                                              \n",
       "                                              │                     │                                              \n",
       "                                              │       Step 1        │                                              \n",
       "                                              │  Preprocess Videos  │                                              \n",
       "                                              │                     │                                              \n",
       "                                              ╰─────────────────────╯                                              \n",
       "                                                         ⬇                                                         \n",
       "                                           ╭──────────────────────────╮                                            \n",
       "                                           │                          │                                            \n",
       "                                           │          Step 2          │                                            \n",
       "                                           │  Bandpass Filter Videos  │                                            \n",
       "                                           │                          │                                            \n",
       "                                           ╰──────────────────────────╯                                            \n"
      ]
     },
     "metadata": {},
     "output_type": "display_data"
    }
   ],
   "source": [
    "pipe.trace()"
   ]
  },
  {
   "cell_type": "code",
   "execution_count": 50,
   "id": "622f1a24",
   "metadata": {},
   "outputs": [
    {
     "data": {
      "text/html": [
       "<pre style=\"white-space:pre;overflow-x:auto;line-height:normal;font-family:Menlo,'DejaVu Sans Mono',consolas,'Courier New',monospace\"><span style=\"font-style: italic\">                                        Step 2 Info                                         </span>\n",
       "┏━━━━━━━━━━━━┳━━━━━━━━━━━━━━━━━━━━━━━━━━━━━━━━━━━━━━━━━━━━━━━━━━━━━━━━━━━━━━━━━━━━━━━━━━━━━┓\n",
       "┃<span style=\"font-weight: bold\"> Field      </span>┃<span style=\"font-weight: bold\"> Value                                                                       </span>┃\n",
       "┡━━━━━━━━━━━━╇━━━━━━━━━━━━━━━━━━━━━━━━━━━━━━━━━━━━━━━━━━━━━━━━━━━━━━━━━━━━━━━━━━━━━━━━━━━━━┩\n",
       "│<span style=\"color: #008080; text-decoration-color: #008080\"> Algorithm  </span>│<span style=\"color: #808000; text-decoration-color: #808000\"> Bandpass Filter Videos                                                      </span>│\n",
       "├────────────┼─────────────────────────────────────────────────────────────────────────────┤\n",
       "│<span style=\"color: #008080; text-decoration-color: #008080\"> Input      </span>│<span style=\"color: #808000; text-decoration-color: #808000\"> output/branch 1 - step 1 - Preprocess Videos/pruebafernando-PP.isxd         </span>│\n",
       "├────────────┼─────────────────────────────────────────────────────────────────────────────┤\n",
       "│<span style=\"color: #008080; text-decoration-color: #008080\"> Output     </span>│<span style=\"color: #808000; text-decoration-color: #808000\"> output/branch 1 - step 2 - Bandpass Filter Videos/pruebafernando-PP-BP.isxd </span>│\n",
       "├────────────┼─────────────────────────────────────────────────────────────────────────────┤\n",
       "│<span style=\"color: #008080; text-decoration-color: #008080\"> Parameters </span>│<span style=\"color: #808000; text-decoration-color: #808000\"> low_cutoff: 0.005                                                           </span>│\n",
       "│<span style=\"color: #008080; text-decoration-color: #008080\">            </span>│<span style=\"color: #808000; text-decoration-color: #808000\"> high_cutoff: 0.7                                                            </span>│\n",
       "└────────────┴─────────────────────────────────────────────────────────────────────────────┘\n",
       "</pre>\n"
      ],
      "text/plain": [
       "\u001b[3m                                        Step 2 Info                                         \u001b[0m\n",
       "┏━━━━━━━━━━━━┳━━━━━━━━━━━━━━━━━━━━━━━━━━━━━━━━━━━━━━━━━━━━━━━━━━━━━━━━━━━━━━━━━━━━━━━━━━━━━┓\n",
       "┃\u001b[1m \u001b[0m\u001b[1mField     \u001b[0m\u001b[1m \u001b[0m┃\u001b[1m \u001b[0m\u001b[1mValue                                                                      \u001b[0m\u001b[1m \u001b[0m┃\n",
       "┡━━━━━━━━━━━━╇━━━━━━━━━━━━━━━━━━━━━━━━━━━━━━━━━━━━━━━━━━━━━━━━━━━━━━━━━━━━━━━━━━━━━━━━━━━━━┩\n",
       "│\u001b[36m \u001b[0m\u001b[36mAlgorithm \u001b[0m\u001b[36m \u001b[0m│\u001b[33m \u001b[0m\u001b[33mBandpass Filter Videos                                                     \u001b[0m\u001b[33m \u001b[0m│\n",
       "├────────────┼─────────────────────────────────────────────────────────────────────────────┤\n",
       "│\u001b[36m \u001b[0m\u001b[36mInput     \u001b[0m\u001b[36m \u001b[0m│\u001b[33m \u001b[0m\u001b[33moutput/branch 1 - step 1 - Preprocess Videos/pruebafernando-PP.isxd        \u001b[0m\u001b[33m \u001b[0m│\n",
       "├────────────┼─────────────────────────────────────────────────────────────────────────────┤\n",
       "│\u001b[36m \u001b[0m\u001b[36mOutput    \u001b[0m\u001b[36m \u001b[0m│\u001b[33m \u001b[0m\u001b[33moutput/branch 1 - step 2 - Bandpass Filter Videos/pruebafernando-PP-BP.isxd\u001b[0m\u001b[33m \u001b[0m│\n",
       "├────────────┼─────────────────────────────────────────────────────────────────────────────┤\n",
       "│\u001b[36m \u001b[0m\u001b[36mParameters\u001b[0m\u001b[36m \u001b[0m│\u001b[33m \u001b[0m\u001b[33mlow_cutoff: 0.005                                                          \u001b[0m\u001b[33m \u001b[0m│\n",
       "│\u001b[36m            \u001b[0m│\u001b[33m \u001b[0m\u001b[33mhigh_cutoff: 0.7                                                           \u001b[0m\u001b[33m \u001b[0m│\n",
       "└────────────┴─────────────────────────────────────────────────────────────────────────────┘\n"
      ]
     },
     "metadata": {},
     "output_type": "display_data"
    }
   ],
   "source": [
    "pipe.info(2)"
   ]
  },
  {
   "cell_type": "code",
   "execution_count": null,
   "id": "c15913b8",
   "metadata": {},
   "outputs": [],
   "source": [
    "otro_pipe = pipe.branch(\"otra\")\n",
    "otro_pipe.normalize_dff_videos()\n",
    "pipe.normalize_dff_videos()\n",
    "logger.show()"
   ]
  }
 ],
 "metadata": {
  "kernelspec": {
   "display_name": "isxenv",
   "language": "python",
   "name": "python3"
  },
  "language_info": {
   "codemirror_mode": {
    "name": "ipython",
    "version": 3
   },
   "file_extension": ".py",
   "mimetype": "text/x-python",
   "name": "python",
   "nbconvert_exporter": "python",
   "pygments_lexer": "ipython3",
   "version": "3.10.18"
  }
 },
 "nbformat": 4,
 "nbformat_minor": 5
}
